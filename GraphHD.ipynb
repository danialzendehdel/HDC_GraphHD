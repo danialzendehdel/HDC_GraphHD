x{
 "cells": [
  {
   "cell_type": "code",
<<<<<<< HEAD
   "execution_count": 34,
   "id": "6c220a4d887f0005",
   "metadata": {
    "ExecuteTime": {
     "end_time": "2024-05-08T20:20:26.550336Z",
     "start_time": "2024-05-08T20:20:26.546093Z"
    },
    "collapsed": false
   },
   "outputs": [],
   "source": [
    "# !pip install bhv\n",
    "# !pip install torch_geometric\n",
    "# !pip install torchmetrics"
   ]
  },
  {
   "cell_type": "code",
   "execution_count": 35,
   "id": "f3cf9276f42607d9",
   "metadata": {
    "ExecuteTime": {
     "end_time": "2024-05-08T20:20:28.345912Z",
     "start_time": "2024-05-08T20:20:28.342655Z"
    },
    "collapsed": false
   },
   "outputs": [],
   "source": [
    "# !pip install torch-hd"
   ]
  },
  {
   "cell_type": "markdown",
   "id": "5674c359810556d8",
   "metadata": {
    "collapsed": false
   },
=======
   "outputs": [
    {
     "name": "stdout",
     "output_type": "stream",
     "text": [
      "DEPRECATION: Loading egg at /Users/danialzendehdel/anaconda3/lib/python3.11/site-packages/sniffio-1.3.1-py3.11.egg is deprecated. pip 23.3 will enforce this behaviour change. A possible replacement is to use pip for package installation..\r\n",
      "DEPRECATION: Loading egg at /Users/danialzendehdel/anaconda3/lib/python3.11/site-packages/attrs-23.2.0-py3.11.egg is deprecated. pip 23.3 will enforce this behaviour change. A possible replacement is to use pip for package installation..\r\n",
      "DEPRECATION: Loading egg at /Users/danialzendehdel/anaconda3/lib/python3.11/site-packages/trio-0.25.0-py3.11.egg is deprecated. pip 23.3 will enforce this behaviour change. A possible replacement is to use pip for package installation..\r\n",
      "DEPRECATION: Loading egg at /Users/danialzendehdel/anaconda3/lib/python3.11/site-packages/bs4-0.0.2-py3.11.egg is deprecated. pip 23.3 will enforce this behaviour change. A possible replacement is to use pip for package installation..\r\n",
      "DEPRECATION: Loading egg at /Users/danialzendehdel/anaconda3/lib/python3.11/site-packages/outcome-1.3.0.post0-py3.11.egg is deprecated. pip 23.3 will enforce this behaviour change. A possible replacement is to use pip for package installation..\r\n",
      "DEPRECATION: Loading egg at /Users/danialzendehdel/anaconda3/lib/python3.11/site-packages/rfc3986-1.5.0-py3.11.egg is deprecated. pip 23.3 will enforce this behaviour change. A possible replacement is to use pip for package installation..\r\n",
      "DEPRECATION: Loading egg at /Users/danialzendehdel/anaconda3/lib/python3.11/site-packages/h11-0.12.0-py3.11.egg is deprecated. pip 23.3 will enforce this behaviour change. A possible replacement is to use pip for package installation..\r\n",
      "DEPRECATION: Loading egg at /Users/danialzendehdel/anaconda3/lib/python3.11/site-packages/httpx-1.0.0b0-py3.11.egg is deprecated. pip 23.3 will enforce this behaviour change. A possible replacement is to use pip for package installation..\r\n",
      "DEPRECATION: Loading egg at /Users/danialzendehdel/anaconda3/lib/python3.11/site-packages/httpcore-0.13.7-py3.11.egg is deprecated. pip 23.3 will enforce this behaviour change. A possible replacement is to use pip for package installation..\r\n",
      "Requirement already satisfied: bhv in /Users/danialzendehdel/anaconda3/lib/python3.11/site-packages (1.4.1)\r\n",
      "DEPRECATION: Loading egg at /Users/danialzendehdel/anaconda3/lib/python3.11/site-packages/sniffio-1.3.1-py3.11.egg is deprecated. pip 23.3 will enforce this behaviour change. A possible replacement is to use pip for package installation..\r\n",
      "DEPRECATION: Loading egg at /Users/danialzendehdel/anaconda3/lib/python3.11/site-packages/attrs-23.2.0-py3.11.egg is deprecated. pip 23.3 will enforce this behaviour change. A possible replacement is to use pip for package installation..\r\n",
      "DEPRECATION: Loading egg at /Users/danialzendehdel/anaconda3/lib/python3.11/site-packages/trio-0.25.0-py3.11.egg is deprecated. pip 23.3 will enforce this behaviour change. A possible replacement is to use pip for package installation..\r\n",
      "DEPRECATION: Loading egg at /Users/danialzendehdel/anaconda3/lib/python3.11/site-packages/bs4-0.0.2-py3.11.egg is deprecated. pip 23.3 will enforce this behaviour change. A possible replacement is to use pip for package installation..\r\n",
      "DEPRECATION: Loading egg at /Users/danialzendehdel/anaconda3/lib/python3.11/site-packages/outcome-1.3.0.post0-py3.11.egg is deprecated. pip 23.3 will enforce this behaviour change. A possible replacement is to use pip for package installation..\r\n",
      "DEPRECATION: Loading egg at /Users/danialzendehdel/anaconda3/lib/python3.11/site-packages/rfc3986-1.5.0-py3.11.egg is deprecated. pip 23.3 will enforce this behaviour change. A possible replacement is to use pip for package installation..\r\n",
      "DEPRECATION: Loading egg at /Users/danialzendehdel/anaconda3/lib/python3.11/site-packages/h11-0.12.0-py3.11.egg is deprecated. pip 23.3 will enforce this behaviour change. A possible replacement is to use pip for package installation..\r\n",
      "DEPRECATION: Loading egg at /Users/danialzendehdel/anaconda3/lib/python3.11/site-packages/httpx-1.0.0b0-py3.11.egg is deprecated. pip 23.3 will enforce this behaviour change. A possible replacement is to use pip for package installation..\r\n",
      "DEPRECATION: Loading egg at /Users/danialzendehdel/anaconda3/lib/python3.11/site-packages/httpcore-0.13.7-py3.11.egg is deprecated. pip 23.3 will enforce this behaviour change. A possible replacement is to use pip for package installation..\r\n",
      "Requirement already satisfied: torch_geometric in /Users/danialzendehdel/anaconda3/lib/python3.11/site-packages (2.5.3)\r\n",
      "Requirement already satisfied: tqdm in /Users/danialzendehdel/anaconda3/lib/python3.11/site-packages (from torch_geometric) (4.65.0)\r\n",
      "Requirement already satisfied: numpy in /Users/danialzendehdel/anaconda3/lib/python3.11/site-packages (from torch_geometric) (1.24.3)\r\n",
      "Requirement already satisfied: scipy in /Users/danialzendehdel/anaconda3/lib/python3.11/site-packages (from torch_geometric) (1.11.1)\r\n",
      "Requirement already satisfied: fsspec in /Users/danialzendehdel/anaconda3/lib/python3.11/site-packages (from torch_geometric) (2023.4.0)\r\n",
      "Requirement already satisfied: jinja2 in /Users/danialzendehdel/anaconda3/lib/python3.11/site-packages (from torch_geometric) (3.1.2)\r\n",
      "Requirement already satisfied: aiohttp in /Users/danialzendehdel/anaconda3/lib/python3.11/site-packages (from torch_geometric) (3.8.5)\r\n",
      "Requirement already satisfied: requests in /Users/danialzendehdel/anaconda3/lib/python3.11/site-packages (from torch_geometric) (2.31.0)\r\n",
      "Requirement already satisfied: pyparsing in /Users/danialzendehdel/anaconda3/lib/python3.11/site-packages (from torch_geometric) (3.0.9)\r\n",
      "Requirement already satisfied: scikit-learn in /Users/danialzendehdel/anaconda3/lib/python3.11/site-packages (from torch_geometric) (1.3.0)\r\n",
      "Requirement already satisfied: psutil>=5.8.0 in /Users/danialzendehdel/anaconda3/lib/python3.11/site-packages (from torch_geometric) (5.9.0)\r\n",
      "Requirement already satisfied: attrs>=17.3.0 in /Users/danialzendehdel/anaconda3/lib/python3.11/site-packages/attrs-23.2.0-py3.11.egg (from aiohttp->torch_geometric) (23.2.0)\r\n",
      "Requirement already satisfied: charset-normalizer<4.0,>=2.0 in /Users/danialzendehdel/anaconda3/lib/python3.11/site-packages (from aiohttp->torch_geometric) (2.0.4)\r\n",
      "Requirement already satisfied: multidict<7.0,>=4.5 in /Users/danialzendehdel/anaconda3/lib/python3.11/site-packages (from aiohttp->torch_geometric) (6.0.2)\r\n",
      "Requirement already satisfied: async-timeout<5.0,>=4.0.0a3 in /Users/danialzendehdel/anaconda3/lib/python3.11/site-packages (from aiohttp->torch_geometric) (4.0.2)\r\n",
      "Requirement already satisfied: yarl<2.0,>=1.0 in /Users/danialzendehdel/anaconda3/lib/python3.11/site-packages (from aiohttp->torch_geometric) (1.8.1)\r\n",
      "Requirement already satisfied: frozenlist>=1.1.1 in /Users/danialzendehdel/anaconda3/lib/python3.11/site-packages (from aiohttp->torch_geometric) (1.3.3)\r\n",
      "Requirement already satisfied: aiosignal>=1.1.2 in /Users/danialzendehdel/anaconda3/lib/python3.11/site-packages (from aiohttp->torch_geometric) (1.2.0)\r\n",
      "Requirement already satisfied: MarkupSafe>=2.0 in /Users/danialzendehdel/anaconda3/lib/python3.11/site-packages (from jinja2->torch_geometric) (2.1.1)\r\n",
      "Requirement already satisfied: idna<4,>=2.5 in /Users/danialzendehdel/anaconda3/lib/python3.11/site-packages (from requests->torch_geometric) (3.4)\r\n",
      "Requirement already satisfied: urllib3<3,>=1.21.1 in /Users/danialzendehdel/anaconda3/lib/python3.11/site-packages (from requests->torch_geometric) (1.26.16)\r\n",
      "Requirement already satisfied: certifi>=2017.4.17 in /Users/danialzendehdel/anaconda3/lib/python3.11/site-packages (from requests->torch_geometric) (2023.7.22)\r\n",
      "Requirement already satisfied: joblib>=1.1.1 in /Users/danialzendehdel/anaconda3/lib/python3.11/site-packages (from scikit-learn->torch_geometric) (1.2.0)\r\n",
      "Requirement already satisfied: threadpoolctl>=2.0.0 in /Users/danialzendehdel/anaconda3/lib/python3.11/site-packages (from scikit-learn->torch_geometric) (2.2.0)\r\n",
      "DEPRECATION: Loading egg at /Users/danialzendehdel/anaconda3/lib/python3.11/site-packages/sniffio-1.3.1-py3.11.egg is deprecated. pip 23.3 will enforce this behaviour change. A possible replacement is to use pip for package installation..\r\n",
      "DEPRECATION: Loading egg at /Users/danialzendehdel/anaconda3/lib/python3.11/site-packages/attrs-23.2.0-py3.11.egg is deprecated. pip 23.3 will enforce this behaviour change. A possible replacement is to use pip for package installation..\r\n",
      "DEPRECATION: Loading egg at /Users/danialzendehdel/anaconda3/lib/python3.11/site-packages/trio-0.25.0-py3.11.egg is deprecated. pip 23.3 will enforce this behaviour change. A possible replacement is to use pip for package installation..\r\n",
      "DEPRECATION: Loading egg at /Users/danialzendehdel/anaconda3/lib/python3.11/site-packages/bs4-0.0.2-py3.11.egg is deprecated. pip 23.3 will enforce this behaviour change. A possible replacement is to use pip for package installation..\r\n",
      "DEPRECATION: Loading egg at /Users/danialzendehdel/anaconda3/lib/python3.11/site-packages/outcome-1.3.0.post0-py3.11.egg is deprecated. pip 23.3 will enforce this behaviour change. A possible replacement is to use pip for package installation..\r\n",
      "DEPRECATION: Loading egg at /Users/danialzendehdel/anaconda3/lib/python3.11/site-packages/rfc3986-1.5.0-py3.11.egg is deprecated. pip 23.3 will enforce this behaviour change. A possible replacement is to use pip for package installation..\r\n",
      "DEPRECATION: Loading egg at /Users/danialzendehdel/anaconda3/lib/python3.11/site-packages/h11-0.12.0-py3.11.egg is deprecated. pip 23.3 will enforce this behaviour change. A possible replacement is to use pip for package installation..\r\n",
      "DEPRECATION: Loading egg at /Users/danialzendehdel/anaconda3/lib/python3.11/site-packages/httpx-1.0.0b0-py3.11.egg is deprecated. pip 23.3 will enforce this behaviour change. A possible replacement is to use pip for package installation..\r\n",
      "DEPRECATION: Loading egg at /Users/danialzendehdel/anaconda3/lib/python3.11/site-packages/httpcore-0.13.7-py3.11.egg is deprecated. pip 23.3 will enforce this behaviour change. A possible replacement is to use pip for package installation..\r\n",
      "Requirement already satisfied: torchmetrics in /Users/danialzendehdel/anaconda3/lib/python3.11/site-packages (1.4.0)\r\n",
      "Requirement already satisfied: numpy>1.20.0 in /Users/danialzendehdel/anaconda3/lib/python3.11/site-packages (from torchmetrics) (1.24.3)\r\n",
      "Requirement already satisfied: packaging>17.1 in /Users/danialzendehdel/anaconda3/lib/python3.11/site-packages (from torchmetrics) (23.1)\r\n",
      "Requirement already satisfied: torch>=1.10.0 in /Users/danialzendehdel/anaconda3/lib/python3.11/site-packages (from torchmetrics) (2.2.1)\r\n",
      "Requirement already satisfied: lightning-utilities>=0.8.0 in /Users/danialzendehdel/anaconda3/lib/python3.11/site-packages (from torchmetrics) (0.11.2)\r\n",
      "Requirement already satisfied: pretty-errors==1.2.25 in /Users/danialzendehdel/anaconda3/lib/python3.11/site-packages (from torchmetrics) (1.2.25)\r\n",
      "Requirement already satisfied: colorama in /Users/danialzendehdel/anaconda3/lib/python3.11/site-packages (from pretty-errors==1.2.25->torchmetrics) (0.4.6)\r\n",
      "Requirement already satisfied: setuptools in /Users/danialzendehdel/anaconda3/lib/python3.11/site-packages (from lightning-utilities>=0.8.0->torchmetrics) (68.0.0)\r\n",
      "Requirement already satisfied: typing-extensions in /Users/danialzendehdel/anaconda3/lib/python3.11/site-packages (from lightning-utilities>=0.8.0->torchmetrics) (4.10.0)\r\n",
      "Requirement already satisfied: filelock in /Users/danialzendehdel/anaconda3/lib/python3.11/site-packages (from torch>=1.10.0->torchmetrics) (3.9.0)\r\n",
      "Requirement already satisfied: sympy in /Users/danialzendehdel/anaconda3/lib/python3.11/site-packages (from torch>=1.10.0->torchmetrics) (1.11.1)\r\n",
      "Requirement already satisfied: networkx in /Users/danialzendehdel/anaconda3/lib/python3.11/site-packages (from torch>=1.10.0->torchmetrics) (3.1)\r\n",
      "Requirement already satisfied: jinja2 in /Users/danialzendehdel/anaconda3/lib/python3.11/site-packages (from torch>=1.10.0->torchmetrics) (3.1.2)\r\n",
      "Requirement already satisfied: fsspec in /Users/danialzendehdel/anaconda3/lib/python3.11/site-packages (from torch>=1.10.0->torchmetrics) (2023.4.0)\r\n",
      "Requirement already satisfied: MarkupSafe>=2.0 in /Users/danialzendehdel/anaconda3/lib/python3.11/site-packages (from jinja2->torch>=1.10.0->torchmetrics) (2.1.1)\r\n",
      "Requirement already satisfied: mpmath>=0.19 in /Users/danialzendehdel/anaconda3/lib/python3.11/site-packages (from sympy->torch>=1.10.0->torchmetrics) (1.3.0)\r\n"
     ]
    }
   ],
   "source": [
    "!pip install bhv\n",
    "!pip install torch_geometric\n",
    "!pip install torchmetrics"
   ],
   "metadata": {
    "collapsed": false,
    "ExecuteTime": {
     "end_time": "2024-05-07T23:02:33.477966Z",
     "start_time": "2024-05-07T23:02:12.814772Z"
    }
   },
   "id": "6c220a4d887f0005",
   "execution_count": 65
  },
  {
   "cell_type": "code",
   "outputs": [
    {
     "name": "stdout",
     "output_type": "stream",
     "text": [
      "DEPRECATION: Loading egg at /Users/danialzendehdel/anaconda3/lib/python3.11/site-packages/sniffio-1.3.1-py3.11.egg is deprecated. pip 23.3 will enforce this behaviour change. A possible replacement is to use pip for package installation..\r\n",
      "DEPRECATION: Loading egg at /Users/danialzendehdel/anaconda3/lib/python3.11/site-packages/attrs-23.2.0-py3.11.egg is deprecated. pip 23.3 will enforce this behaviour change. A possible replacement is to use pip for package installation..\r\n",
      "DEPRECATION: Loading egg at /Users/danialzendehdel/anaconda3/lib/python3.11/site-packages/trio-0.25.0-py3.11.egg is deprecated. pip 23.3 will enforce this behaviour change. A possible replacement is to use pip for package installation..\r\n",
      "DEPRECATION: Loading egg at /Users/danialzendehdel/anaconda3/lib/python3.11/site-packages/bs4-0.0.2-py3.11.egg is deprecated. pip 23.3 will enforce this behaviour change. A possible replacement is to use pip for package installation..\r\n",
      "DEPRECATION: Loading egg at /Users/danialzendehdel/anaconda3/lib/python3.11/site-packages/outcome-1.3.0.post0-py3.11.egg is deprecated. pip 23.3 will enforce this behaviour change. A possible replacement is to use pip for package installation..\r\n",
      "DEPRECATION: Loading egg at /Users/danialzendehdel/anaconda3/lib/python3.11/site-packages/rfc3986-1.5.0-py3.11.egg is deprecated. pip 23.3 will enforce this behaviour change. A possible replacement is to use pip for package installation..\r\n",
      "DEPRECATION: Loading egg at /Users/danialzendehdel/anaconda3/lib/python3.11/site-packages/h11-0.12.0-py3.11.egg is deprecated. pip 23.3 will enforce this behaviour change. A possible replacement is to use pip for package installation..\r\n",
      "DEPRECATION: Loading egg at /Users/danialzendehdel/anaconda3/lib/python3.11/site-packages/httpx-1.0.0b0-py3.11.egg is deprecated. pip 23.3 will enforce this behaviour change. A possible replacement is to use pip for package installation..\r\n",
      "DEPRECATION: Loading egg at /Users/danialzendehdel/anaconda3/lib/python3.11/site-packages/httpcore-0.13.7-py3.11.egg is deprecated. pip 23.3 will enforce this behaviour change. A possible replacement is to use pip for package installation..\r\n",
      "Collecting torch-hd\r\n",
      "  Obtaining dependency information for torch-hd from https://files.pythonhosted.org/packages/c9/90/76a387ce648ef5421dd77d093dbe8035f22640070a59ea2c010d7b1c98bb/torch_hd-5.5.0-py3-none-any.whl.metadata\r\n",
      "  Using cached torch_hd-5.5.0-py3-none-any.whl.metadata (10 kB)\r\n",
      "Requirement already satisfied: torch>=1.9.0 in /Users/danialzendehdel/anaconda3/lib/python3.11/site-packages (from torch-hd) (2.2.1)\r\n",
      "Requirement already satisfied: scipy in /Users/danialzendehdel/anaconda3/lib/python3.11/site-packages (from torch-hd) (1.11.1)\r\n",
      "Requirement already satisfied: pandas in /Users/danialzendehdel/anaconda3/lib/python3.11/site-packages (from torch-hd) (2.0.3)\r\n",
      "Requirement already satisfied: numpy in /Users/danialzendehdel/anaconda3/lib/python3.11/site-packages (from torch-hd) (1.24.3)\r\n",
      "Requirement already satisfied: requests in /Users/danialzendehdel/anaconda3/lib/python3.11/site-packages (from torch-hd) (2.31.0)\r\n",
      "Requirement already satisfied: tqdm in /Users/danialzendehdel/anaconda3/lib/python3.11/site-packages (from torch-hd) (4.65.0)\r\n",
      "Requirement already satisfied: openpyxl in /Users/danialzendehdel/anaconda3/lib/python3.11/site-packages (from torch-hd) (3.0.10)\r\n",
      "Requirement already satisfied: filelock in /Users/danialzendehdel/anaconda3/lib/python3.11/site-packages (from torch>=1.9.0->torch-hd) (3.9.0)\r\n",
      "Requirement already satisfied: typing-extensions>=4.8.0 in /Users/danialzendehdel/anaconda3/lib/python3.11/site-packages (from torch>=1.9.0->torch-hd) (4.10.0)\r\n",
      "Requirement already satisfied: sympy in /Users/danialzendehdel/anaconda3/lib/python3.11/site-packages (from torch>=1.9.0->torch-hd) (1.11.1)\r\n",
      "Requirement already satisfied: networkx in /Users/danialzendehdel/anaconda3/lib/python3.11/site-packages (from torch>=1.9.0->torch-hd) (3.1)\r\n",
      "Requirement already satisfied: jinja2 in /Users/danialzendehdel/anaconda3/lib/python3.11/site-packages (from torch>=1.9.0->torch-hd) (3.1.2)\r\n",
      "Requirement already satisfied: fsspec in /Users/danialzendehdel/anaconda3/lib/python3.11/site-packages (from torch>=1.9.0->torch-hd) (2023.4.0)\r\n",
      "Requirement already satisfied: et_xmlfile in /Users/danialzendehdel/anaconda3/lib/python3.11/site-packages (from openpyxl->torch-hd) (1.1.0)\r\n",
      "Requirement already satisfied: python-dateutil>=2.8.2 in /Users/danialzendehdel/anaconda3/lib/python3.11/site-packages (from pandas->torch-hd) (2.8.2)\r\n",
      "Requirement already satisfied: pytz>=2020.1 in /Users/danialzendehdel/anaconda3/lib/python3.11/site-packages (from pandas->torch-hd) (2023.3.post1)\r\n",
      "Requirement already satisfied: tzdata>=2022.1 in /Users/danialzendehdel/anaconda3/lib/python3.11/site-packages (from pandas->torch-hd) (2023.3)\r\n",
      "Requirement already satisfied: charset-normalizer<4,>=2 in /Users/danialzendehdel/anaconda3/lib/python3.11/site-packages (from requests->torch-hd) (2.0.4)\r\n",
      "Requirement already satisfied: idna<4,>=2.5 in /Users/danialzendehdel/anaconda3/lib/python3.11/site-packages (from requests->torch-hd) (3.4)\r\n",
      "Requirement already satisfied: urllib3<3,>=1.21.1 in /Users/danialzendehdel/anaconda3/lib/python3.11/site-packages (from requests->torch-hd) (1.26.16)\r\n",
      "Requirement already satisfied: certifi>=2017.4.17 in /Users/danialzendehdel/anaconda3/lib/python3.11/site-packages (from requests->torch-hd) (2023.7.22)\r\n",
      "Requirement already satisfied: six>=1.5 in /Users/danialzendehdel/anaconda3/lib/python3.11/site-packages (from python-dateutil>=2.8.2->pandas->torch-hd) (1.16.0)\r\n",
      "Requirement already satisfied: MarkupSafe>=2.0 in /Users/danialzendehdel/anaconda3/lib/python3.11/site-packages (from jinja2->torch>=1.9.0->torch-hd) (2.1.1)\r\n",
      "Requirement already satisfied: mpmath>=0.19 in /Users/danialzendehdel/anaconda3/lib/python3.11/site-packages (from sympy->torch>=1.9.0->torch-hd) (1.3.0)\r\n",
      "Using cached torch_hd-5.5.0-py3-none-any.whl (350 kB)\r\n",
      "Installing collected packages: torch-hd\r\n",
      "Successfully installed torch-hd-5.5.0\r\n"
     ]
    }
   ],
   "source": [
    "!pip install torch-hd"
   ],
   "metadata": {
    "collapsed": false,
    "ExecuteTime": {
     "end_time": "2024-05-06T20:16:19.149020Z",
     "start_time": "2024-05-06T20:16:08.929355Z"
    }
   },
   "id": "f3cf9276f42607d9",
   "execution_count": 25
  },
  {
   "cell_type": "markdown",
>>>>>>> origin/main
   "source": [
    "## GraphHD\n",
    "\n",
    "- Contrary to the usual ML problems in which data is captured in the Euclidean space such as vector of feature, images, time series data, etc., in real world scenarios `representation of relationships between entities` has the importance. These information about such entities and the relationships between them is non-euclidean and can be represented as a graph.\n",
    "- However, the graph data is not directly usable by the ML models. The graph data needs to be converted into a format that can be used by the ML models. This conversion is called `graph embedding` or `graph encoding`.\n",
    "- GraphHD is a graph encoding technique that uses Hypervector Distributed Computing (HDC) to encode the graph data into a format that can be used by the ML models.\n",
    "- HDC represents information in a high- dimensional space using hypervectors. Each hypervector stores data holographically, that is, each dimension contains the same amount of information. This allows HDC to store and process large amounts of data in a compact and efficient manner, as the information is not concentrated in a single dimension but is spread out across all dimensions."
<<<<<<< HEAD
   ]
  },
  {
   "cell_type": "markdown",
   "id": "453af00c3f7927f1",
   "metadata": {
    "collapsed": false
   },
=======
   ],
   "metadata": {
    "collapsed": false
   },
   "id": "5674c359810556d8"
  },
  {
   "cell_type": "markdown",
>>>>>>> origin/main
   "source": [
    "### Hyperdimensional Computing\n",
    "\n",
    "- Hyperdimensional computing seeks to emulate brain circuits in a more robust and efficient way than neural networks by representing information as points in a high-dimensional space, called $\\textbf{hypervectors}$. Hypervectors are typically binary or bipolar vectors with ten thousand dimensions.\n",
    "\n",
    "\n",
    "#### HDC models\n",
    "- HDC models can often be separated into three stages: encoding, training, and inference. An overview of HDC classification is shown in Figure 1. The encoding stage is application specific and serves to transform the input data into hypervectors. During the training the hypervectors are aggregated to learn a model. Finally, inferences into the model can be made using the generated class representations.\n",
    "\n",
    "![Figure 1](images/fig1.png)\n"
<<<<<<< HEAD
   ]
  },
  {
   "cell_type": "markdown",
   "id": "67b2d7e7cdac51b8",
   "metadata": {
    "collapsed": false
   },
=======
   ],
   "metadata": {
    "collapsed": false
   },
   "id": "453af00c3f7927f1"
  },
  {
   "cell_type": "markdown",
>>>>>>> origin/main
   "source": [
    "### Process \n",
    "\n",
    "- Encoding \n",
    "    - The mapping of data to the high-dimensional space is the first step in HDC and this process corresponds to encoding.\n",
    "    $$Enc: \\mathbb{I} \\rightarrow \\mathbb{H}^d$$\n",
    "\n",
    "Encoding is the HDC counterpart to the feature extraction process in classical learning methods. Thus, the main intuitive principle that governs the encoding is that inputs that are similar in the original space should be mapped to similar hypervectors.\n",
    "The process starts by generating a set of basis hypervectors that represent units of information (e.g. feature values and positions). The basis hypervectors remain fixed throughout computation and each data sample is encoded by combining and manipulating them using the addition (bundling), multiplication (binding) and permutation operations.\n",
    "- Record based encoding\n",
    "The encoding generates the hypervector $\\textbf{H}$ from the randomly generated key hypervectors $\\textbf{K}$  which are bound to their value $\\textbf{V^\\bar_i}$ which is one of predifined value hypervectors in $\\textbf{V}$.\n",
    "\n",
    "$$ \\textbf{H} = [K_1 \\times \\textbf{V^\\bar_1} + K_2 \\times \\textbf{V^\\bar_2} + .... + k_N \\times \\textbf{V^\\bar_N}  ]$$\n",
    "        \n",
    "\n",
    "\n",
    "           "
<<<<<<< HEAD
   ]
  },
  {
   "cell_type": "markdown",
   "id": "d10167ec29cfeb57",
   "metadata": {
    "collapsed": false
   },
=======
   ],
   "metadata": {
    "collapsed": false
   },
   "id": "67b2d7e7cdac51b8"
  },
  {
   "cell_type": "markdown",
>>>>>>> origin/main
   "source": [
    "- Training \n",
    "A trained HDC model creates $\\textit{k}$ hypervector one for each class therefore  the model $$ M = \\{ C_1, C_2, ..., C_k\\}$$ where $C_i$ is the hypervector for class $i$ and contains all the information used to identify the i-th class.\n",
    "- Each $C_i$ is calculated as the vector with the smallest average distance to the the hypervectors obtained by encoding the training samples of class i:\n",
    "$$ C_i = \\sum_{j:\\l(x_j)=i} Enc(x_j)$$\n",
    "\n",
    "In which $\\l(x_j)$ is the label of the j-th training sample and $Enc(x_j)$ is the hypervector obtained by encoding the j-th training sample and the sum  is bundling. "
<<<<<<< HEAD
   ]
  },
  {
   "cell_type": "markdown",
   "id": "cf09be1722f29b26",
   "metadata": {
    "collapsed": false
   },
=======
   ],
   "metadata": {
    "collapsed": false
   },
   "id": "d10167ec29cfeb57"
  },
  {
   "cell_type": "markdown",
>>>>>>> origin/main
   "source": [
    "### GraphHD Encoding\n",
    "$$Enc_{v} : V(G) \\rightarrow \\mathbb{R}^{d}$$\n",
    "\n",
    "By $\\textit{encoding}$  a random hypervector would be assigned to each vertice of the graph $G$ denoted by $V(G)$. For example, one for each letter to encode text.\n",
    "\n",
    "\n",
    "$\\textit{How to encode a graph?} \\\\$ \n",
    "\n",
    "In other structures like text, there is a correspondence between the letters of different texts. For example, the letter 'a' in the word 'apple' is the same as the letter 'a' in the word 'banana' which makes it reasonable to encode the letter 'a' with the same hypervector in both words. Because of structure of a graph, there is no correspondence between vertices of different graphs. \n",
    "- Vertex Identity Is Contextual: In graphs, vertices do not have a universal \"meaning\" or identity outside their specific graph context. The identity of a vertex is often defined by its position and its relationships within a graph, not by any inherent, standalone attribute.\n",
    "- Lack of Universal Features: Unlike text where 'A' always carries the same semantic meaning, a vertex in one graph does not inherently carry over the same attributes or relationships as a similarly positioned vertex in another graph. For instance, a vertex representing a city in one graph might be central, while in another graph, a similarly positioned vertex could represent a minor town.\n",
    "\n",
    "\n",
    "$\\textit{Extracting an identifier for the vertices based only on the topology of the graph}$    \\\n",
    "$\\textbf{PageRank}$\n",
    "\n",
    "PageRank centerality metric receives a graph as input and returns, for each vertex $v_i \\in V$ a value $c(v_i) \\in [0, 1]$  that measures its “importance” in the graph.\n",
    "\n",
    "From this ranking induced by the PageRank centrality of the vertices, it is possible to establish a meaningful connection between vertices in different graphs. Therefore, GraphHD uses the centrality rank of the vertex as its identifier (or symbol). Accordingly, vertices of different graphs, but with the same centrality rank, are encoded to the same random hypervector from the basis set.\n",
    "\n",
    "\n",
    "After creating the hypervectors for each vertex, GraphHD makes use of these representations to also encode each edge $(v_i, v_j) \\in E(G)$, The edge encoding function $Enc_e$ is defined as follows:\n",
    "\n",
    "$Enc_e((v_j, v_j)) = Enc_v(v_i) \\times Enc_v(v_j)$\n",
    "\n",
    "\n",
    "\n",
    "The $\\times$ symbol represents the binding operation in HDC, which is the standard operation to represent an association between a pair of hypervectors, similar to the role of an edge in a graph. The result of the binding operation is a third vector, statistically quasi-orthogonal to the operand vectors, which we name edge-hypervectors."
<<<<<<< HEAD
   ]
  },
  {
   "cell_type": "code",
   "execution_count": 2,
   "id": "6506525c1d79bc70",
   "metadata": {
    "ExecuteTime": {
     "end_time": "2024-05-08T20:21:05.459901Z",
     "start_time": "2024-05-08T20:20:31.024471Z"
    },
    "collapsed": false
   },
=======
   ],
   "metadata": {
    "collapsed": false
   },
   "id": "cf09be1722f29b26"
  },
  {
   "cell_type": "code",
>>>>>>> origin/main
   "outputs": [
    {
     "name": "stdout",
     "output_type": "stream",
     "text": [
      "5.5.0\n"
     ]
    }
   ],
   "source": [
    "import networkx as nx\n",
    "import matplotlib.pyplot as plt\n",
    "import pandas as pd\n",
    "from statistics import fmean, stdev\n",
    "import torch\n",
    "import torch.nn as nn\n",
    "import torch.nn.functional as F\n",
    "from functools import reduce\n",
    "from operator import add\n",
    "from tqdm import tqdm\n",
    "\n",
    "from torch_geometric.datasets import TUDataset\n",
    "import torchmetrics\n",
    "import torchhd\n",
    "print(torchhd.__version__)"
<<<<<<< HEAD
   ]
  },
  {
   "cell_type": "markdown",
   "id": "631aff78324a8975",
   "metadata": {
    "collapsed": false
   },
=======
   ],
   "metadata": {
    "collapsed": false,
    "ExecuteTime": {
     "end_time": "2024-05-08T19:56:23.223034Z",
     "start_time": "2024-05-08T19:56:13.760612Z"
    }
   },
   "id": "6506525c1d79bc70",
   "execution_count": 5
  },
  {
   "cell_type": "markdown",
>>>>>>> origin/main
   "source": [
    "#### TUDataset\n",
    "\n",
    "Link to [TUDataset](https://chrsmrrs.github.io/datasets/docs/home/). \n",
    "Total number of graphs in `MUTAG` is 188. "
<<<<<<< HEAD
   ]
  },
  {
   "cell_type": "code",
   "execution_count": 7,
   "id": "598d04a2a78a537c",
   "metadata": {
    "ExecuteTime": {
     "end_time": "2024-05-08T20:21:05.478251Z",
     "start_time": "2024-05-08T20:21:05.462877Z"
    },
    "collapsed": false
   },
=======
   ],
   "metadata": {
    "collapsed": false
   },
   "id": "631aff78324a8975"
  },
  {
   "cell_type": "code",
>>>>>>> origin/main
   "outputs": [
    {
     "name": "stdout",
     "output_type": "stream",
     "text": [
      "Total number of graphs: 188\n"
     ]
    }
   ],
   "source": [
    "# for other available datasets see: https://pytorch-geometric.readthedocs.io/en/latest/notes/data_cheatsheet.html?highlight=tudatasets\n",
    "dataset = \"MUTAG\"\n",
    "\n",
    "graphs = TUDataset(\"../data\", dataset)\n",
    "print(f\"Total number of graphs: {len(graphs)}\")"
<<<<<<< HEAD
   ]
  },
  {
   "cell_type": "code",
   "execution_count": 8,
   "id": "c5ccc1708ee3d735",
   "metadata": {
    "ExecuteTime": {
     "end_time": "2024-05-08T20:21:05.487759Z",
     "start_time": "2024-05-08T20:21:05.480170Z"
    },
    "collapsed": false
   },
   "outputs": [
    {
     "data": {
      "text/plain": [
       "Data(edge_index=[2, 28], x=[13, 7], edge_attr=[28, 4], y=[1])"
      ]
     },
     "execution_count":6,
=======
   ],
   "metadata": {
    "collapsed": false,
    "ExecuteTime": {
     "end_time": "2024-05-08T19:56:23.240642Z",
     "start_time": "2024-05-08T19:56:23.225767Z"
    }
   },
   "id": "598d04a2a78a537c",
   "execution_count": 3
  },
  {
   "cell_type": "code",
   "outputs": [
    {
     "data": {
      "text/plain": "Data(edge_index=[2, 28], x=[13, 7], edge_attr=[28, 4], y=[1])"
     },
     "execution_count":4,
>>>>>>> origin/main
     "metadata": {},
     "output_type": "execute_result"
    }
   ],
   "source": [
    "graphs[2]"
<<<<<<< HEAD
   ]
  },
  {
   "cell_type": "code",
   "execution_count": 7,
   "id": "30ef9b785afe4c51",
   "metadata": {
    "ExecuteTime": {
     "end_time": "2024-05-08T20:21:05.756948Z",
     "start_time": "2024-05-08T20:21:05.490333Z"
    },
    "collapsed": false
   },
   "outputs": [
    {
     "data": {
      "image/png": "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",
      "text/plain": [
       "<Figure size 640x480 with 1 Axes>"
      ]
=======
   ],
   "metadata": {
    "collapsed": false,
    "ExecuteTime": {
     "end_time": "2024-05-08T19:56:23.248991Z",
     "start_time": "2024-05-08T19:56:23.241930Z"
    }
   },
   "id": "c5ccc1708ee3d735",
   "execution_count": 8
  },
  {
   "cell_type": "code",
   "outputs": [
    {
     "data": {
      "text/plain": "<Figure size 640x480 with 1 Axes>",
      "image/png": "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"
>>>>>>> origin/main
     },
     "metadata": {},
     "output_type": "display_data"
    },
    {
     "name": "stdout",
     "output_type": "stream",
     "text": [
      "Number of nodes: 13\n",
      "Number of edges: 28\n",
      "Number of node features: 7\n",
      "Number of graph features: 7\n",
      "Is the graph directed: False\n",
      "Graph label (class): tensor([0])\n",
      "Edge index shape: \n"
     ]
    },
    {
     "data": {
<<<<<<< HEAD
      "text/html": [
       "<div>\n",
       "<style scoped>\n",
       "    .dataframe tbody tr th:only-of-type {\n",
       "        vertical-align: middle;\n",
       "    }\n",
       "\n",
       "    .dataframe tbody tr th {\n",
       "        vertical-align: top;\n",
       "    }\n",
       "\n",
       "    .dataframe thead th {\n",
       "        text-align: right;\n",
       "    }\n",
       "</style>\n",
       "<table border=\"1\" class=\"dataframe\">\n",
       "  <thead>\n",
       "    <tr style=\"text-align: right;\">\n",
       "      <th></th>\n",
       "      <th>0</th>\n",
       "      <th>1</th>\n",
       "      <th>2</th>\n",
       "      <th>3</th>\n",
       "      <th>4</th>\n",
       "      <th>5</th>\n",
       "      <th>6</th>\n",
       "      <th>7</th>\n",
       "      <th>8</th>\n",
       "      <th>9</th>\n",
       "      <th>...</th>\n",
       "      <th>18</th>\n",
       "      <th>19</th>\n",
       "      <th>20</th>\n",
       "      <th>21</th>\n",
       "      <th>22</th>\n",
       "      <th>23</th>\n",
       "      <th>24</th>\n",
       "      <th>25</th>\n",
       "      <th>26</th>\n",
       "      <th>27</th>\n",
       "    </tr>\n",
       "  </thead>\n",
       "  <tbody>\n",
       "    <tr>\n",
       "      <th>0</th>\n",
       "      <td>0</td>\n",
       "      <td>0</td>\n",
       "      <td>1</td>\n",
       "      <td>1</td>\n",
       "      <td>2</td>\n",
       "      <td>2</td>\n",
       "      <td>2</td>\n",
       "      <td>3</td>\n",
       "      <td>3</td>\n",
       "      <td>3</td>\n",
       "      <td>...</td>\n",
       "      <td>8</td>\n",
       "      <td>8</td>\n",
       "      <td>8</td>\n",
       "      <td>9</td>\n",
       "      <td>9</td>\n",
       "      <td>10</td>\n",
       "      <td>10</td>\n",
       "      <td>10</td>\n",
       "      <td>11</td>\n",
       "      <td>12</td>\n",
       "    </tr>\n",
       "    <tr>\n",
       "      <th>1</th>\n",
       "      <td>1</td>\n",
       "      <td>9</td>\n",
       "      <td>0</td>\n",
       "      <td>2</td>\n",
       "      <td>1</td>\n",
       "      <td>3</td>\n",
       "      <td>7</td>\n",
       "      <td>2</td>\n",
       "      <td>4</td>\n",
       "      <td>8</td>\n",
       "      <td>...</td>\n",
       "      <td>3</td>\n",
       "      <td>9</td>\n",
       "      <td>10</td>\n",
       "      <td>0</td>\n",
       "      <td>8</td>\n",
       "      <td>8</td>\n",
       "      <td>11</td>\n",
       "      <td>12</td>\n",
       "      <td>10</td>\n",
       "      <td>10</td>\n",
       "    </tr>\n",
       "  </tbody>\n",
       "</table>\n",
       "<p>2 rows × 28 columns</p>\n",
       "</div>"
      ],
      "text/plain": [
       "   0   1   2   3   4   5   6   7   8   9   ...  18  19  20  21  22  23  24  \\\n",
       "0   0   0   1   1   2   2   2   3   3   3  ...   8   8   8   9   9  10  10   \n",
       "1   1   9   0   2   1   3   7   2   4   8  ...   3   9  10   0   8   8  11   \n",
       "\n",
       "   25  26  27  \n",
       "0  10  11  12  \n",
       "1  12  10  10  \n",
       "\n",
       "[2 rows x 28 columns]"
      ]
     },
     "execution_count": 9,
=======
      "text/plain": "   0   1   2   3   4   5   6   7   8   9   ...  18  19  20  21  22  23  24  \\\n0   0   0   1   1   2   2   2   3   3   3  ...   8   8   8   9   9  10  10   \n1   1   9   0   2   1   3   7   2   4   8  ...   3   9  10   0   8   8  11   \n\n   25  26  27  \n0  10  11  12  \n1  12  10  10  \n\n[2 rows x 28 columns]",
      "text/html": "<div>\n<style scoped>\n    .dataframe tbody tr th:only-of-type {\n        vertical-align: middle;\n    }\n\n    .dataframe tbody tr th {\n        vertical-align: top;\n    }\n\n    .dataframe thead th {\n        text-align: right;\n    }\n</style>\n<table border=\"1\" class=\"dataframe\">\n  <thead>\n    <tr style=\"text-align: right;\">\n      <th></th>\n      <th>0</th>\n      <th>1</th>\n      <th>2</th>\n      <th>3</th>\n      <th>4</th>\n      <th>5</th>\n      <th>6</th>\n      <th>7</th>\n      <th>8</th>\n      <th>9</th>\n      <th>...</th>\n      <th>18</th>\n      <th>19</th>\n      <th>20</th>\n      <th>21</th>\n      <th>22</th>\n      <th>23</th>\n      <th>24</th>\n      <th>25</th>\n      <th>26</th>\n      <th>27</th>\n    </tr>\n  </thead>\n  <tbody>\n    <tr>\n      <th>0</th>\n      <td>0</td>\n      <td>0</td>\n      <td>1</td>\n      <td>1</td>\n      <td>2</td>\n      <td>2</td>\n      <td>2</td>\n      <td>3</td>\n      <td>3</td>\n      <td>3</td>\n      <td>...</td>\n      <td>8</td>\n      <td>8</td>\n      <td>8</td>\n      <td>9</td>\n      <td>9</td>\n      <td>10</td>\n      <td>10</td>\n      <td>10</td>\n      <td>11</td>\n      <td>12</td>\n    </tr>\n    <tr>\n      <th>1</th>\n      <td>1</td>\n      <td>9</td>\n      <td>0</td>\n      <td>2</td>\n      <td>1</td>\n      <td>3</td>\n      <td>7</td>\n      <td>2</td>\n      <td>4</td>\n      <td>8</td>\n      <td>...</td>\n      <td>3</td>\n      <td>9</td>\n      <td>10</td>\n      <td>0</td>\n      <td>8</td>\n      <td>8</td>\n      <td>11</td>\n      <td>12</td>\n      <td>10</td>\n      <td>10</td>\n    </tr>\n  </tbody>\n</table>\n<p>2 rows × 28 columns</p>\n</div>"
     },
     "execution_count": 10,
>>>>>>> origin/main
     "metadata": {},
     "output_type": "execute_result"
    }
   ],
   "source": [
    "def plot_graph(graph):\n",
    "    # Convert to networkx graph\n",
    "    G = nx.Graph()\n",
    "    edge_index = graph.edge_index.numpy()\n",
    "    # Add edges and nodes to the graph\n",
    "    G.add_edges_from(edge_index.T)\n",
    "    # Draw the graph\n",
    "    nx.draw(G, with_labels=True, node_color='lightblue')\n",
    "    plt.show()\n",
    "\n",
    "# Visualize the first graph\n",
    "plot_graph(graphs[2])\n",
    "\n",
    "data = graphs[2]\n",
    "print(f\"Number of nodes: {data.num_nodes}\")\n",
    "print(f\"Number of edges: {data.num_edges}\")\n",
    "print(f\"Number of node features: {data.num_node_features}\")\n",
    "# ===========================================================\n",
    "# Each node has 7 features. These features typically represent properties or characteristics of the nodes which can be used for graph neural network tasks. For instance, in a chemical graph like MUTAG, these could include properties like atom type, charge, etc.\n",
    "# ===========================================================\n",
    "print(f\"Number of graph features: {data.num_features}\")\n",
    "print(f\"Is the graph directed: {data.is_directed()}\")\n",
    "print(f\"Graph label (class): {data.y}\")\n",
    "# ===========================================================\n",
    "# In classification tasks, each graph is assigned a label, which in the case of MUTAG could indicate the presence or absence of mutagenic effect.\n",
    "# ===========================================================\n",
    "\n",
    "# print(f\"Edge index (connectivity): \\n{data.edge_index}\")\n",
    "print(f\"Edge index shape: \")\n",
    "df = pd.DataFrame(data.edge_index)\n",
    "df"
<<<<<<< HEAD
   ]
  },
  {
   "cell_type": "code",
   "execution_count": 11,
   "id": "d876f4d9086b87e2",
   "metadata": {
    "ExecuteTime": {
     "end_time": "2024-05-08T20:21:05.763810Z",
     "start_time": "2024-05-08T20:21:05.758594Z"
    },
    "collapsed": false
   },
=======
   ],
   "metadata": {
    "collapsed": false,
    "ExecuteTime": {
     "end_time": "2024-05-08T19:56:23.466045Z",
     "start_time": "2024-05-08T19:56:23.250103Z"
    }
   },
   "id": "30ef9b785afe4c51",
   "execution_count": 12
  },
  {
   "cell_type": "code",
>>>>>>> origin/main
   "outputs": [],
   "source": [
    "def sparse_stochastic_graph(G):\n",
    "    \"\"\"\n",
    "    Returns a sparse adjacency matrix of the graph G.\n",
    "    The values indicate the probability of leaving a vertex.\n",
    "    This means that each column sums up to one.\n",
    "    \"\"\"\n",
    "    rows, columns = G.edge_index # rows containing source nodes, and columns containing destination nodes of each edge.\n",
    "    # Calculate the probability for each column\n",
    "    values_per_column = 1.0 / torch.bincount(columns, minlength=G.num_nodes) # probability of leaving a vertex\n",
    "    values_per_edge = values_per_column[columns]\n",
    "    size = (G.num_nodes, G.num_nodes)\n",
    "    return torch.sparse_coo_tensor(G.edge_index, values_per_edge, size) # The sparse stochastic adjacency matrix is a representation of the graph where each                                                                        entry M[i][j] represents the probability of transitioning from node i to node j.\n",
    "\n",
    "\n",
    "def inverse_permutation(perm):\n",
    "    inv = torch.empty_like(perm)\n",
    "    inv[perm] = torch.arange(perm.size(0), device=perm.device)\n",
    "    return inv\n",
    "\n",
    "\n",
    "def to_undirected(edge_index):\n",
    "    \"\"\"\n",
    "    Returns the undirected edge_index\n",
    "    [[0, 1], [1, 0]] will result in [[0], [1]]\n",
    "    \"\"\"\n",
    "    edge_index = edge_index.sort(dim=0)[0]\n",
    "    edge_index = torch.unique(edge_index, dim=1)\n",
    "    return edge_index"
<<<<<<< HEAD
   ]
  },
  {
   "cell_type": "code",
   "execution_count": 13,
   "id": "3f6ba5cf014081ec",
   "metadata": {
    "ExecuteTime": {
     "end_time": "2024-05-08T20:21:05.776654Z",
     "start_time": "2024-05-08T20:21:05.765009Z"
    },
    "collapsed": false
   },
=======
   ],
   "metadata": {
    "collapsed": false,
    "ExecuteTime": {
     "end_time": "2024-05-08T19:56:23.477267Z",
     "start_time": "2024-05-08T19:56:23.470184Z"
    }
   },
   "id": "d876f4d9086b87e2",
   "execution_count": 14
  },
  {
   "cell_type": "code",
>>>>>>> origin/main
   "outputs": [
    {
     "name": "stdout",
     "output_type": "stream",
     "text": [
      "Column sums: tensor([1., 1., 1., 1., 1., 1., 1., 1., 1., 1., 1., 1., 1.])\n"
     ]
    },
    {
     "data": {
<<<<<<< HEAD
      "text/plain": [
       "tensor([1., 1., 1., 1., 1., 1., 1., 1., 1., 1., 1., 1., 1.])"
      ]
     },
     "execution_count": 15,
=======
      "text/plain": "tensor([1., 1., 1., 1., 1., 1., 1., 1., 1., 1., 1., 1., 1.])"
     },
     "execution_count": 16,
>>>>>>> origin/main
     "metadata": {},
     "output_type": "execute_result"
    }
   ],
   "source": [
    "def validate_stochastic_matrix(G):\n",
    "    sparse_matrix = sparse_stochastic_graph(G)\n",
    "    dense_matrix = sparse_matrix.to_dense()\n",
    "    # print(dense_matrix)\n",
    "    column_sums = dense_matrix.sum(dim=0)\n",
    "    print(\"Column sums:\", column_sums)  # Each element should be very close to 1\n",
    "    return column_sums\n",
    "\n",
    "validate_stochastic_matrix(graphs[2])"
<<<<<<< HEAD
   ]
  },
  {
   "cell_type": "code",
   "execution_count": 17,
   "id": "5ff558946fe048d3",
   "metadata": {
    "ExecuteTime": {
     "end_time": "2024-05-08T20:21:05.786032Z",
     "start_time": "2024-05-08T20:21:05.777987Z"
    },
    "collapsed": false
   },
   "outputs": [
    {
     "data": {
      "text/plain": [
       "tensor([0.0714, 0.0699, 0.0988, 0.0982, 0.0699, 0.0718, 0.0718, 0.0701, 0.1024,\n",
       "        0.0709, 0.1161, 0.0444, 0.0444])"
      ]
     },
     "execution_count": 18,
=======
   ],
   "metadata": {
    "collapsed": false,
    "ExecuteTime": {
     "end_time": "2024-05-08T19:56:23.492611Z",
     "start_time": "2024-05-08T19:56:23.479147Z"
    }
   },
   "id": "3f6ba5cf014081ec",
   "execution_count": 19
  },
  {
   "cell_type": "code",
   "outputs": [
    {
     "data": {
      "text/plain": "tensor([0.0714, 0.0699, 0.0988, 0.0982, 0.0699, 0.0718, 0.0718, 0.0701, 0.1024,\n        0.0709, 0.1161, 0.0444, 0.0444])"
     },
     "execution_count": 20,
>>>>>>> origin/main
     "metadata": {},
     "output_type": "execute_result"
    }
   ],
   "source": [
    "def pagerank(G, alpha=0.85, max_iter=100):\n",
    "    \"\"\"\n",
    "    Calculate PageRank based on the sparse stochastic graph representation.\n",
    "    \"\"\"\n",
    "    N = G.num_nodes\n",
    "    M = sparse_stochastic_graph(G) * alpha\n",
    "    v = torch.full((N,), 1 / N)\n",
    "    p = torch.full((N,), (1 - alpha) / N)\n",
    "    for _ in range(max_iter):\n",
    "        v = M @ v + p\n",
    "    return v\n",
    "pagerank(graphs[2])"
<<<<<<< HEAD
   ]
  },
  {
   "cell_type": "code",
   "execution_count": 21,
   "id": "382ff9bdde112aae",
   "metadata": {
    "ExecuteTime": {
     "end_time": "2024-05-08T20:21:32.495457Z",
     "start_time": "2024-05-08T20:21:32.488327Z"
    },
    "collapsed": false
   },
=======
   ],
   "metadata": {
    "collapsed": false,
    "ExecuteTime": {
     "end_time": "2024-05-08T19:56:23.505453Z",
     "start_time": "2024-05-08T19:56:23.494509Z"
    }
   },
   "id": "5ff558946fe048d3",
   "execution_count": 22
  },
  {
   "cell_type": "code",
>>>>>>> origin/main
   "outputs": [],
   "source": [
    "class Encoder(nn.Module):\n",
    "    def __init__(self, num_vectors, vector_size=47):\n",
    "        super(Encoder, self).__init__()\n",
    "        # Generate random binary hypervectors\n",
    "        self.node_ids = nn.Parameter(self.generate_random_hypervectors(num_vectors, vector_size), requires_grad=False)\n",
    "\n",
    "    @staticmethod\n",
    "    def generate_random_hypervectors(num_vectors, vector_size):\n",
    "        # Generate random 0s and 1s\n",
    "        return torch.randint(0, 2, (num_vectors, vector_size), dtype=torch.int32)\n",
    "\n",
    "    def forward(self, x):\n",
    "        # Assuming 'pagerank' and 'inverse_permutation' functions are defined elsewhere\n",
    "        pr = pagerank(x)\n",
    "        pr_argsort = inverse_permutation(torch.argsort(pr))\n",
    "\n",
    "        node_id_hvs = self.node_ids[pr_argsort]\n",
    "\n",
    "        # Assuming 'to_undirected' function is defined elsewhere\n",
    "        row, col = to_undirected(x.edge_index)\n",
    "\n",
    "        # Perform XOR binding for each edge\n",
    "        hvs = [node_id_hvs[s] ^ node_id_hvs[t] for s, t in zip(row, col)]\n",
    "\n",
    "        # Bundle hypervectors using majority rule (here simplified to mean)\n",
    "        if len(hvs) > 0:\n",
    "            graph_hv = hvs[0]\n",
    "            for hv in hvs[1:]:\n",
    "                graph_hv = torchhd.bundle(graph_hv, hv)\n",
    "        else:\n",
    "            # Handle case where there are no edges\n",
    "            graph_hv = torch.zeros(self.vector_size, dtype=torch.float32)\n",
    "        return graph_hv.type(torch.float32)"
<<<<<<< HEAD
   ]
  },
  {
   "cell_type": "code",
   "execution_count": 23,
   "id": "6932f6b12ae0e521",
   "metadata": {
    "ExecuteTime": {
     "end_time": "2024-05-08T20:21:32.900767Z",
     "start_time": "2024-05-08T20:21:32.894013Z"
    },
    "collapsed": false
   },
=======
   ],
   "metadata": {
    "collapsed": false,
    "ExecuteTime": {
     "end_time": "2024-05-08T19:56:27.021903Z",
     "start_time": "2024-05-08T19:56:27.015231Z"
    }
   },
   "id": "382ff9bdde112aae",
   "execution_count": 24
  },
  {
   "cell_type": "code",
>>>>>>> origin/main
   "outputs": [],
   "source": [
    "class MajorityClassification(nn.Module):\n",
    "    def __init__(self):\n",
    "        super(MajorityClassification, self).__init__()\n",
    "        self.class_vectors = {}\n",
    "        self.classes = []  # To maintain the order of classes\n",
    "\n",
    "    def add(self, x, c):\n",
    "        \"\"\"Adds or updates the class vector for class c with a new training hypervector x.\"\"\"\n",
    "        if c not in self.class_vectors:\n",
    "            self.class_vectors[c] = x\n",
    "            self.classes.append(c)\n",
    "        else:\n",
    "            # Bundle the new hypervector with the existing class vector\n",
    "            self.class_vectors[c] = torchhd.bundle(self.class_vectors[c], x)\n",
    "    def num_classes(self):\n",
    "        return len(self.classes)\n",
    "    \n",
    "    def get_class_info(self):\n",
    "        return {c: self.class_vectors[c].detach().clone() for c in self.classes}  # Using detach().clone() to safely export tensors without affecting computation graph\n",
    "\n",
    "            \n",
    "\n",
    "    def forward(self, x):\n",
    "        \"\"\"Classifies an input hypervector x by finding the class with the highest similarity class vector.\"\"\"\n",
    "        # Gather all class vectors into a single tensor for batch processing\n",
    "        class_vectors = torch.stack([self.class_vectors[c] for c in self.classes])\n",
    "        # Calculate Hamming similarities between the input vector and all class vectors\n",
    "        similarities = torchhd.hamming_similarity(x, class_vectors)\n",
    "        # Find the index of the class vector with the highest similarity\n",
    "        max_index = torch.argmax(similarities)\n",
    "        # Return the class corresponding to the highest similarity\n",
    "        return self.classes[max_index]"
<<<<<<< HEAD
   ]
  },
  {
   "cell_type": "code",
   "execution_count": 25,
   "id": "8759d9e84757ee1a",
   "metadata": {
    "ExecuteTime": {
     "end_time": "2024-05-08T20:21:43.262863Z",
     "start_time": "2024-05-08T20:21:38.631429Z"
    },
    "collapsed": false
   },
=======
   ],
   "metadata": {
    "collapsed": false,
    "ExecuteTime": {
     "end_time": "2024-05-08T19:56:51.438258Z",
     "start_time": "2024-05-08T19:56:51.432137Z"
    }
   },
   "id": "6932f6b12ae0e521",
   "execution_count": 26
  },
  {
   "cell_type": "code",
   "outputs": [
    {
     "name": "stdout",
     "output_type": "stream",
     "text": [
      "The predicted class for the new hypervector is: class3\n"
     ]
    }
   ],
   "source": [
    "classifier = MajorityClassification()\n",
    "# Simulate adding training data\n",
    "classifier.add(torchhd.random(1, 10), 'class1')\n",
    "classifier.add(torchhd.random(1, 10), 'class2')\n",
    "classifier.add(torchhd.random(1, 10), 'class3')\n",
    "\n",
    "# Classify a new hypervector\n",
    "new_hv = torchhd.random(1, 10)\n",
    "predicted_class = classifier(new_hv)\n",
    "print(f\"The predicted class for the new hypervector is: {predicted_class}\")"
   ],
   "metadata": {
    "collapsed": false,
    "ExecuteTime": {
     "end_time": "2024-05-08T19:56:52.636315Z",
     "start_time": "2024-05-08T19:56:52.628602Z"
    }
   },
   "id": "c13bbea38d8efdf",
   "execution_count": 27
  },
  {
   "cell_type": "code",
   "outputs": [],
   "source": [],
   "metadata": {
    "collapsed": false,
    "ExecuteTime": {
     "end_time": "2024-05-08T19:56:54.306571Z",
     "start_time": "2024-05-08T19:56:54.304142Z"
    }
   },
   "id": "e0af7d0778fa5a1a",
   "execution_count": 28
  },
  {
   "cell_type": "code",
>>>>>>> origin/main
   "outputs": [
    {
     "name": "stderr",
     "output_type": "stream",
     "text": [
<<<<<<< HEAD
      "Training fold 1: 100%|██████████| 169/169 [00:00<00:00, 448.16it/s]\n",
      "Testing fold 1: 100%|██████████| 19/19 [00:00<00:00, 336.51it/s]\n"
=======
      "Training fold 1: 100%|██████████| 169/169 [00:00<00:00, 406.72it/s]\n",
      "Testing fold 1: 100%|██████████| 19/19 [00:00<00:00, 324.03it/s]\n"
>>>>>>> origin/main
     ]
    },
    {
     "name": "stdout",
     "output_type": "stream",
     "text": [
<<<<<<< HEAD
      "Testing accuracy of 15.789% for fold 1\n"
=======
      "Testing accuracy of 26.316% for fold 1\n"
>>>>>>> origin/main
     ]
    },
    {
     "name": "stderr",
     "output_type": "stream",
     "text": [
<<<<<<< HEAD
      "Training fold 2: 100%|██████████| 169/169 [00:00<00:00, 458.41it/s]\n",
      "Testing fold 2: 100%|██████████| 19/19 [00:00<00:00, 317.02it/s]\n"
=======
      "Training fold 2: 100%|██████████| 169/169 [00:00<00:00, 434.26it/s]\n",
      "Testing fold 2: 100%|██████████| 19/19 [00:00<00:00, 319.71it/s]\n"
>>>>>>> origin/main
     ]
    },
    {
     "name": "stdout",
     "output_type": "stream",
     "text": [
<<<<<<< HEAD
      "Testing accuracy of 68.421% for fold 2\n"
=======
      "Testing accuracy of 57.895% for fold 2\n"
>>>>>>> origin/main
     ]
    },
    {
     "name": "stderr",
     "output_type": "stream",
     "text": [
<<<<<<< HEAD
      "Training fold 3: 100%|██████████| 169/169 [00:00<00:00, 428.83it/s]\n",
      "Testing fold 3: 100%|██████████| 19/19 [00:00<00:00, 320.28it/s]\n"
=======
      "Training fold 3: 100%|██████████| 169/169 [00:00<00:00, 442.89it/s]\n",
      "Testing fold 3: 100%|██████████| 19/19 [00:00<00:00, 373.20it/s]\n"
>>>>>>> origin/main
     ]
    },
    {
     "name": "stdout",
     "output_type": "stream",
     "text": [
<<<<<<< HEAD
      "Testing accuracy of 78.947% for fold 3\n"
=======
      "Testing accuracy of 68.421% for fold 3\n"
>>>>>>> origin/main
     ]
    },
    {
     "name": "stderr",
     "output_type": "stream",
     "text": [
<<<<<<< HEAD
      "Training fold 4: 100%|██████████| 169/169 [00:00<00:00, 408.76it/s]\n",
      "Testing fold 4: 100%|██████████| 19/19 [00:00<00:00, 307.50it/s]\n"
=======
      "Training fold 4: 100%|██████████| 169/169 [00:00<00:00, 448.40it/s]\n",
      "Testing fold 4: 100%|██████████| 19/19 [00:00<00:00, 382.82it/s]\n"
>>>>>>> origin/main
     ]
    },
    {
     "name": "stdout",
     "output_type": "stream",
     "text": [
<<<<<<< HEAD
      "Testing accuracy of 68.421% for fold 4\n"
=======
      "Testing accuracy of 42.105% for fold 4\n"
>>>>>>> origin/main
     ]
    },
    {
     "name": "stderr",
     "output_type": "stream",
     "text": [
<<<<<<< HEAD
      "Training fold 5: 100%|██████████| 169/169 [00:00<00:00, 416.87it/s]\n",
      "Testing fold 5: 100%|██████████| 19/19 [00:00<00:00, 333.87it/s]\n"
=======
      "Training fold 5: 100%|██████████| 169/169 [00:00<00:00, 432.84it/s]\n",
      "Testing fold 5: 100%|██████████| 19/19 [00:00<00:00, 326.86it/s]\n"
>>>>>>> origin/main
     ]
    },
    {
     "name": "stdout",
     "output_type": "stream",
     "text": [
<<<<<<< HEAD
      "Testing accuracy of 63.158% for fold 5\n"
=======
      "Testing accuracy of 78.947% for fold 5\n"
>>>>>>> origin/main
     ]
    },
    {
     "name": "stderr",
     "output_type": "stream",
     "text": [
<<<<<<< HEAD
      "Training fold 6: 100%|██████████| 169/169 [00:00<00:00, 450.75it/s]\n",
      "Testing fold 6: 100%|██████████| 19/19 [00:00<00:00, 335.40it/s]\n"
=======
      "Training fold 6: 100%|██████████| 169/169 [00:00<00:00, 383.64it/s]\n",
      "Testing fold 6: 100%|██████████| 19/19 [00:00<00:00, 350.01it/s]\n"
>>>>>>> origin/main
     ]
    },
    {
     "name": "stdout",
     "output_type": "stream",
     "text": [
<<<<<<< HEAD
      "Testing accuracy of 63.158% for fold 6\n"
=======
      "Testing accuracy of 73.684% for fold 6\n"
>>>>>>> origin/main
     ]
    },
    {
     "name": "stderr",
     "output_type": "stream",
     "text": [
<<<<<<< HEAD
      "Training fold 7: 100%|██████████| 169/169 [00:00<00:00, 374.95it/s]\n",
      "Testing fold 7: 100%|██████████| 19/19 [00:00<00:00, 323.85it/s]\n"
=======
      "Training fold 7: 100%|██████████| 169/169 [00:00<00:00, 358.11it/s]\n",
      "Testing fold 7: 100%|██████████| 19/19 [00:00<00:00, 324.45it/s]\n"
>>>>>>> origin/main
     ]
    },
    {
     "name": "stdout",
     "output_type": "stream",
     "text": [
      "Testing accuracy of 63.158% for fold 7\n"
     ]
    },
    {
     "name": "stderr",
     "output_type": "stream",
     "text": [
<<<<<<< HEAD
      "Training fold 8: 100%|██████████| 169/169 [00:00<00:00, 433.34it/s]\n",
      "Testing fold 8: 100%|██████████| 19/19 [00:00<00:00, 273.59it/s]\n"
=======
      "Training fold 8: 100%|██████████| 169/169 [00:00<00:00, 419.27it/s]\n",
      "Testing fold 8: 100%|██████████| 19/19 [00:00<00:00, 420.15it/s]\n"
>>>>>>> origin/main
     ]
    },
    {
     "name": "stdout",
     "output_type": "stream",
     "text": [
<<<<<<< HEAD
      "Testing accuracy of 57.895% for fold 8\n"
=======
      "Testing accuracy of 73.684% for fold 8\n"
>>>>>>> origin/main
     ]
    },
    {
     "name": "stderr",
     "output_type": "stream",
     "text": [
<<<<<<< HEAD
      "Training fold 9: 100%|██████████| 170/170 [00:00<00:00, 429.35it/s]\n",
      "Testing fold 9: 100%|██████████| 18/18 [00:00<00:00, 407.49it/s]\n"
=======
      "Training fold 9: 100%|██████████| 170/170 [00:00<00:00, 455.11it/s]\n",
      "Testing fold 9: 100%|██████████| 18/18 [00:00<00:00, 403.26it/s]\n"
>>>>>>> origin/main
     ]
    },
    {
     "name": "stdout",
     "output_type": "stream",
     "text": [
<<<<<<< HEAD
      "Testing accuracy of 55.556% for fold 9\n"
=======
      "Testing accuracy of 83.333% for fold 9\n"
>>>>>>> origin/main
     ]
    },
    {
     "name": "stderr",
     "output_type": "stream",
     "text": [
<<<<<<< HEAD
      "Training fold 10: 100%|██████████| 170/170 [00:00<00:00, 456.95it/s]\n",
      "Testing fold 10: 100%|██████████| 18/18 [00:00<00:00, 376.21it/s]\n"
=======
      "Training fold 10: 100%|██████████| 170/170 [00:00<00:00, 381.80it/s]\n",
      "Testing fold 10: 100%|██████████| 18/18 [00:00<00:00, 334.65it/s]\n"
>>>>>>> origin/main
     ]
    },
    {
     "name": "stdout",
     "output_type": "stream",
     "text": [
<<<<<<< HEAD
      "Testing accuracy of 61.111% for fold 10\n",
      "tenfold crossvalidation accuracy mean: 0.5956140339374543, stdev: 0.16696023513592204\n"
=======
      "Testing accuracy of 50.000% for fold 10\n",
      "tenfold crossvalidation accuracy mean: 0.6175438582897186, stdev: 0.17911355347113453\n"
>>>>>>> origin/main
     ]
    }
   ],
   "source": [
    "max_graph_size = max(g.num_nodes for g in graphs)\n",
    "folds = torch.utils.data.random_split(graphs, [.1]*10)\n",
    "accuracies = []\n",
    "\n",
    "for i in range(10):\n",
    "    train_ld, test_ld = reduce(add, [folds[j] for j in range(10) if j != i]), folds[i]\n",
    "    \n",
    "    encode = Encoder(max_graph_size, vector_size=47)\n",
    "    \n",
    "    model = MajorityClassification()\n",
    "    \n",
    "    with torch.no_grad():\n",
    "        for samples in tqdm(train_ld, desc=f\"Training fold {i + 1}\"):\n",
    "            samples_hv = encode(samples)\n",
    "            model.add(samples_hv, samples.y.item())\n",
    "            \n",
    "        accuracy = torchmetrics.Accuracy(\"multiclass\", num_classes=graphs.num_classes)\n",
    "        \n",
    "        for samples in tqdm(test_ld, desc=f\"Testing fold {i + 1}\"):\n",
    "            samples_hv = encode(samples)\n",
    "            output = model(samples_hv)\n",
    "            accuracy.update(torch.IntTensor([output]), samples.y)\n",
    "            \n",
    "    acc = accuracy.compute().item()\n",
    "    accuracies.append(acc)\n",
    "    print(f\"Testing accuracy of {acc*100:.3f}% for fold {i + 1}\")\n",
    "    \n",
    "print(f\"tenfold crossvalidation accuracy mean: {fmean(accuracies)}, stdev: {stdev(accuracies)}\")\n",
    "\n"
<<<<<<< HEAD
   ]
  },
  {
   "cell_type": "code",
   "execution_count": 28,
   "id": "7b68db399f5f8d9e",
   "metadata": {
    "ExecuteTime": {
     "end_time": "2024-05-08T20:21:59.739208Z",
     "start_time": "2024-05-08T20:21:59.730570Z"
    },
    "collapsed": false
   },
=======
   ],
   "metadata": {
    "collapsed": false,
    "ExecuteTime": {
     "end_time": "2024-05-08T19:56:59.620253Z",
     "start_time": "2024-05-08T19:56:54.832570Z"
    }
   },
   "id": "8759d9e84757ee1a",
   "execution_count": 30
  },
  {
   "cell_type": "code",
>>>>>>> origin/main
   "outputs": [
    {
     "name": "stdout",
     "output_type": "stream",
     "text": [
<<<<<<< HEAD
      "MAPTensor([[-1., -1.,  1.,  1.,  1.,  1., -1., -1., -1., -1., -1.,  1., -1.,\n",
      "            -1.,  1., -1.,  1.,  1.,  1.,  1.,  1.,  1.,  1., -1., -1., -1.,\n",
      "            -1., -1., -1.,  1., -1., -1.,  1.,  1.,  1., -1., -1., -1.,  1.,\n",
      "             1., -1., -1., -1., -1., -1., -1.,  1.]])\n",
=======
      "MAPTensor([[-1., -1., -1., -1., -1.,  1.,  1.,  1.,  1., -1., -1.,  1.,  1.,\n",
      "             1.,  1.,  1.,  1., -1., -1.,  1., -1., -1., -1.,  1., -1.,  1.,\n",
      "            -1.,  1., -1.,  1., -1.,  1., -1.,  1., -1.,  1., -1.,  1., -1.,\n",
      "             1.,  1., -1., -1., -1., -1.,  1., -1.]])\n",
>>>>>>> origin/main
      "The predicted class for the new hypervector is: 1\n"
     ]
    }
   ],
   "source": [
    "new_hv = torchhd.random(1, 47)  # Example new sample\n",
    "print(new_hv)\n",
    "predicted_class = model(new_hv)\n",
    "\n",
    "print(f\"The predicted class for the new hypervector is: {predicted_class}\")"
<<<<<<< HEAD
   ]
  },
  {
   "cell_type": "code",
   "execution_count": 31,
   "id": "40db3cc212613ee9",
   "metadata": {
    "ExecuteTime": {
     "end_time": "2024-05-08T20:22:00.118060Z",
     "start_time": "2024-05-08T20:22:00.108498Z"
    },
    "collapsed": false
   },
=======
   ],
   "metadata": {
    "collapsed": false,
    "ExecuteTime": {
     "end_time": "2024-05-08T19:57:01.534895Z",
     "start_time": "2024-05-08T19:57:01.524493Z"
    }
   },
   "id": "7b68db399f5f8d9e",
   "execution_count": 32
  },
  {
   "cell_type": "code",
>>>>>>> origin/main
   "outputs": [
    {
     "name": "stdout",
     "output_type": "stream",
     "text": [
<<<<<<< HEAD
      "Class 1: Hypervector - MAPTensor([1396., 1152., 1087., 1125., 1310., 1313., 1407., 1270., 1314., 1351.,\n",
      "           1223., 1301., 1351., 1294., 1193., 1177., 1349., 1185., 1311., 1305.,\n",
      "           1226.,  927., 1327., 1393., 1366., 1356., 1383., 1295., 1293., 1177.,\n",
      "           1349., 1322., 1244., 1218., 1317., 1420., 1398., 1227., 1283., 1361.,\n",
      "           1363., 1302., 1327., 1363., 1293., 1224., 1023.])\n",
      "Class 0: Hypervector - MAPTensor([409., 454., 214., 407., 495., 373., 456., 389., 438., 447., 365.,\n",
      "           428., 421., 476., 337., 382., 454., 387., 449., 433., 357., 208.,\n",
      "           429., 466., 303., 417., 489., 410., 397., 447., 435., 431., 458.,\n",
      "           400., 351., 430., 430., 438., 422., 429., 406., 423., 424., 448.,\n",
      "           470., 403., 332.])\n"
=======
      "Class 1: Hypervector - MAPTensor([1222., 1148., 1237., 1386., 1404., 1402., 1360., 1355., 1348., 1397.,\n",
      "           1239., 1378., 1273., 1286., 1403., 1417., 1449.,  937., 1291., 1444.,\n",
      "           1323., 1355., 1226., 1322., 1292., 1104., 1352., 1073., 1101., 1333.,\n",
      "           1369., 1276.,  867., 1267., 1315., 1213.,  964., 1393., 1292., 1319.,\n",
      "           1351., 1347., 1301., 1420., 1404., 1315., 1268.])\n",
      "Class 0: Hypervector - MAPTensor([311., 394., 428., 431., 407., 418., 425., 413., 361., 318., 434.,\n",
      "           413., 405., 352., 419., 416., 459., 257., 417., 456., 379., 408.,\n",
      "           338., 416., 374., 385., 385., 412., 383., 315., 446., 352., 300.,\n",
      "           385., 339., 388., 315., 415., 390., 400., 388., 410., 408., 414.,\n",
      "           426., 398., 329.])\n"
>>>>>>> origin/main
     ]
    }
   ],
   "source": [
    "for label, hypervector in model.get_class_info().items():\n",
    "    print(f\"Class {label}: Hypervector - {hypervector}\")"
<<<<<<< HEAD
   ]
=======
   ],
   "metadata": {
    "collapsed": false,
    "ExecuteTime": {
     "end_time": "2024-05-08T19:57:01.896918Z",
     "start_time": "2024-05-08T19:57:01.886584Z"
    }
   },
   "id": "40db3cc212613ee9",
   "execution_count": 33
  },
  {
   "cell_type": "code",
   "outputs": [],
   "source": [
    " "
   ],
   "metadata": {
    "collapsed": false
   },
   "id": "88f14c0a09703d53"
>>>>>>> origin/main
  }
 ],
 "metadata": {
  "kernelspec": {
   "display_name": "Python 3",
   "language": "python",
   "name": "python3"
  },
  "language_info": {
   "codemirror_mode": {
    "name": "ipython",
    "version": 2
   },
   "file_extension": ".py",
   "mimetype": "text/x-python",
   "name": "python",
   "nbconvert_exporter": "python",
   "pygments_lexer": "ipython2",
   "version": "2.7.6"
  }
 },
 "nbformat": 4,
 "nbformat_minor": 5
}
