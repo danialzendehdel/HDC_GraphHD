{
 "cells": [
  {
   "cell_type": "code",
   "outputs": [
    {
     "name": "stdout",
     "output_type": "stream",
     "text": [
      "DEPRECATION: Loading egg at /Users/danialzendehdel/anaconda3/lib/python3.11/site-packages/sniffio-1.3.1-py3.11.egg is deprecated. pip 23.3 will enforce this behaviour change. A possible replacement is to use pip for package installation..\r\n",
      "DEPRECATION: Loading egg at /Users/danialzendehdel/anaconda3/lib/python3.11/site-packages/attrs-23.2.0-py3.11.egg is deprecated. pip 23.3 will enforce this behaviour change. A possible replacement is to use pip for package installation..\r\n",
      "DEPRECATION: Loading egg at /Users/danialzendehdel/anaconda3/lib/python3.11/site-packages/trio-0.25.0-py3.11.egg is deprecated. pip 23.3 will enforce this behaviour change. A possible replacement is to use pip for package installation..\r\n",
      "DEPRECATION: Loading egg at /Users/danialzendehdel/anaconda3/lib/python3.11/site-packages/bs4-0.0.2-py3.11.egg is deprecated. pip 23.3 will enforce this behaviour change. A possible replacement is to use pip for package installation..\r\n",
      "DEPRECATION: Loading egg at /Users/danialzendehdel/anaconda3/lib/python3.11/site-packages/outcome-1.3.0.post0-py3.11.egg is deprecated. pip 23.3 will enforce this behaviour change. A possible replacement is to use pip for package installation..\r\n",
      "DEPRECATION: Loading egg at /Users/danialzendehdel/anaconda3/lib/python3.11/site-packages/rfc3986-1.5.0-py3.11.egg is deprecated. pip 23.3 will enforce this behaviour change. A possible replacement is to use pip for package installation..\r\n",
      "DEPRECATION: Loading egg at /Users/danialzendehdel/anaconda3/lib/python3.11/site-packages/h11-0.12.0-py3.11.egg is deprecated. pip 23.3 will enforce this behaviour change. A possible replacement is to use pip for package installation..\r\n",
      "DEPRECATION: Loading egg at /Users/danialzendehdel/anaconda3/lib/python3.11/site-packages/httpx-1.0.0b0-py3.11.egg is deprecated. pip 23.3 will enforce this behaviour change. A possible replacement is to use pip for package installation..\r\n",
      "DEPRECATION: Loading egg at /Users/danialzendehdel/anaconda3/lib/python3.11/site-packages/httpcore-0.13.7-py3.11.egg is deprecated. pip 23.3 will enforce this behaviour change. A possible replacement is to use pip for package installation..\r\n",
      "Requirement already satisfied: bhv in /Users/danialzendehdel/anaconda3/lib/python3.11/site-packages (1.4.1)\r\n",
      "DEPRECATION: Loading egg at /Users/danialzendehdel/anaconda3/lib/python3.11/site-packages/sniffio-1.3.1-py3.11.egg is deprecated. pip 23.3 will enforce this behaviour change. A possible replacement is to use pip for package installation..\r\n",
      "DEPRECATION: Loading egg at /Users/danialzendehdel/anaconda3/lib/python3.11/site-packages/attrs-23.2.0-py3.11.egg is deprecated. pip 23.3 will enforce this behaviour change. A possible replacement is to use pip for package installation..\r\n",
      "DEPRECATION: Loading egg at /Users/danialzendehdel/anaconda3/lib/python3.11/site-packages/trio-0.25.0-py3.11.egg is deprecated. pip 23.3 will enforce this behaviour change. A possible replacement is to use pip for package installation..\r\n",
      "DEPRECATION: Loading egg at /Users/danialzendehdel/anaconda3/lib/python3.11/site-packages/bs4-0.0.2-py3.11.egg is deprecated. pip 23.3 will enforce this behaviour change. A possible replacement is to use pip for package installation..\r\n",
      "DEPRECATION: Loading egg at /Users/danialzendehdel/anaconda3/lib/python3.11/site-packages/outcome-1.3.0.post0-py3.11.egg is deprecated. pip 23.3 will enforce this behaviour change. A possible replacement is to use pip for package installation..\r\n",
      "DEPRECATION: Loading egg at /Users/danialzendehdel/anaconda3/lib/python3.11/site-packages/rfc3986-1.5.0-py3.11.egg is deprecated. pip 23.3 will enforce this behaviour change. A possible replacement is to use pip for package installation..\r\n",
      "DEPRECATION: Loading egg at /Users/danialzendehdel/anaconda3/lib/python3.11/site-packages/h11-0.12.0-py3.11.egg is deprecated. pip 23.3 will enforce this behaviour change. A possible replacement is to use pip for package installation..\r\n",
      "DEPRECATION: Loading egg at /Users/danialzendehdel/anaconda3/lib/python3.11/site-packages/httpx-1.0.0b0-py3.11.egg is deprecated. pip 23.3 will enforce this behaviour change. A possible replacement is to use pip for package installation..\r\n",
      "DEPRECATION: Loading egg at /Users/danialzendehdel/anaconda3/lib/python3.11/site-packages/httpcore-0.13.7-py3.11.egg is deprecated. pip 23.3 will enforce this behaviour change. A possible replacement is to use pip for package installation..\r\n",
      "Requirement already satisfied: torch_geometric in /Users/danialzendehdel/anaconda3/lib/python3.11/site-packages (2.5.3)\r\n",
      "Requirement already satisfied: tqdm in /Users/danialzendehdel/anaconda3/lib/python3.11/site-packages (from torch_geometric) (4.65.0)\r\n",
      "Requirement already satisfied: numpy in /Users/danialzendehdel/anaconda3/lib/python3.11/site-packages (from torch_geometric) (1.24.3)\r\n",
      "Requirement already satisfied: scipy in /Users/danialzendehdel/anaconda3/lib/python3.11/site-packages (from torch_geometric) (1.11.1)\r\n",
      "Requirement already satisfied: fsspec in /Users/danialzendehdel/anaconda3/lib/python3.11/site-packages (from torch_geometric) (2023.4.0)\r\n",
      "Requirement already satisfied: jinja2 in /Users/danialzendehdel/anaconda3/lib/python3.11/site-packages (from torch_geometric) (3.1.2)\r\n",
      "Requirement already satisfied: aiohttp in /Users/danialzendehdel/anaconda3/lib/python3.11/site-packages (from torch_geometric) (3.8.5)\r\n",
      "Requirement already satisfied: requests in /Users/danialzendehdel/anaconda3/lib/python3.11/site-packages (from torch_geometric) (2.31.0)\r\n",
      "Requirement already satisfied: pyparsing in /Users/danialzendehdel/anaconda3/lib/python3.11/site-packages (from torch_geometric) (3.0.9)\r\n",
      "Requirement already satisfied: scikit-learn in /Users/danialzendehdel/anaconda3/lib/python3.11/site-packages (from torch_geometric) (1.3.0)\r\n",
      "Requirement already satisfied: psutil>=5.8.0 in /Users/danialzendehdel/anaconda3/lib/python3.11/site-packages (from torch_geometric) (5.9.0)\r\n",
      "Requirement already satisfied: attrs>=17.3.0 in /Users/danialzendehdel/anaconda3/lib/python3.11/site-packages/attrs-23.2.0-py3.11.egg (from aiohttp->torch_geometric) (23.2.0)\r\n",
      "Requirement already satisfied: charset-normalizer<4.0,>=2.0 in /Users/danialzendehdel/anaconda3/lib/python3.11/site-packages (from aiohttp->torch_geometric) (2.0.4)\r\n",
      "Requirement already satisfied: multidict<7.0,>=4.5 in /Users/danialzendehdel/anaconda3/lib/python3.11/site-packages (from aiohttp->torch_geometric) (6.0.2)\r\n",
      "Requirement already satisfied: async-timeout<5.0,>=4.0.0a3 in /Users/danialzendehdel/anaconda3/lib/python3.11/site-packages (from aiohttp->torch_geometric) (4.0.2)\r\n",
      "Requirement already satisfied: yarl<2.0,>=1.0 in /Users/danialzendehdel/anaconda3/lib/python3.11/site-packages (from aiohttp->torch_geometric) (1.8.1)\r\n",
      "Requirement already satisfied: frozenlist>=1.1.1 in /Users/danialzendehdel/anaconda3/lib/python3.11/site-packages (from aiohttp->torch_geometric) (1.3.3)\r\n",
      "Requirement already satisfied: aiosignal>=1.1.2 in /Users/danialzendehdel/anaconda3/lib/python3.11/site-packages (from aiohttp->torch_geometric) (1.2.0)\r\n",
      "Requirement already satisfied: MarkupSafe>=2.0 in /Users/danialzendehdel/anaconda3/lib/python3.11/site-packages (from jinja2->torch_geometric) (2.1.1)\r\n",
      "Requirement already satisfied: idna<4,>=2.5 in /Users/danialzendehdel/anaconda3/lib/python3.11/site-packages (from requests->torch_geometric) (3.4)\r\n",
      "Requirement already satisfied: urllib3<3,>=1.21.1 in /Users/danialzendehdel/anaconda3/lib/python3.11/site-packages (from requests->torch_geometric) (1.26.16)\r\n",
      "Requirement already satisfied: certifi>=2017.4.17 in /Users/danialzendehdel/anaconda3/lib/python3.11/site-packages (from requests->torch_geometric) (2023.7.22)\r\n",
      "Requirement already satisfied: joblib>=1.1.1 in /Users/danialzendehdel/anaconda3/lib/python3.11/site-packages (from scikit-learn->torch_geometric) (1.2.0)\r\n",
      "Requirement already satisfied: threadpoolctl>=2.0.0 in /Users/danialzendehdel/anaconda3/lib/python3.11/site-packages (from scikit-learn->torch_geometric) (2.2.0)\r\n",
      "DEPRECATION: Loading egg at /Users/danialzendehdel/anaconda3/lib/python3.11/site-packages/sniffio-1.3.1-py3.11.egg is deprecated. pip 23.3 will enforce this behaviour change. A possible replacement is to use pip for package installation..\r\n",
      "DEPRECATION: Loading egg at /Users/danialzendehdel/anaconda3/lib/python3.11/site-packages/attrs-23.2.0-py3.11.egg is deprecated. pip 23.3 will enforce this behaviour change. A possible replacement is to use pip for package installation..\r\n",
      "DEPRECATION: Loading egg at /Users/danialzendehdel/anaconda3/lib/python3.11/site-packages/trio-0.25.0-py3.11.egg is deprecated. pip 23.3 will enforce this behaviour change. A possible replacement is to use pip for package installation..\r\n",
      "DEPRECATION: Loading egg at /Users/danialzendehdel/anaconda3/lib/python3.11/site-packages/bs4-0.0.2-py3.11.egg is deprecated. pip 23.3 will enforce this behaviour change. A possible replacement is to use pip for package installation..\r\n",
      "DEPRECATION: Loading egg at /Users/danialzendehdel/anaconda3/lib/python3.11/site-packages/outcome-1.3.0.post0-py3.11.egg is deprecated. pip 23.3 will enforce this behaviour change. A possible replacement is to use pip for package installation..\r\n",
      "DEPRECATION: Loading egg at /Users/danialzendehdel/anaconda3/lib/python3.11/site-packages/rfc3986-1.5.0-py3.11.egg is deprecated. pip 23.3 will enforce this behaviour change. A possible replacement is to use pip for package installation..\r\n",
      "DEPRECATION: Loading egg at /Users/danialzendehdel/anaconda3/lib/python3.11/site-packages/h11-0.12.0-py3.11.egg is deprecated. pip 23.3 will enforce this behaviour change. A possible replacement is to use pip for package installation..\r\n",
      "DEPRECATION: Loading egg at /Users/danialzendehdel/anaconda3/lib/python3.11/site-packages/httpx-1.0.0b0-py3.11.egg is deprecated. pip 23.3 will enforce this behaviour change. A possible replacement is to use pip for package installation..\r\n",
      "DEPRECATION: Loading egg at /Users/danialzendehdel/anaconda3/lib/python3.11/site-packages/httpcore-0.13.7-py3.11.egg is deprecated. pip 23.3 will enforce this behaviour change. A possible replacement is to use pip for package installation..\r\n",
      "Requirement already satisfied: torchmetrics in /Users/danialzendehdel/anaconda3/lib/python3.11/site-packages (1.4.0)\r\n",
      "Requirement already satisfied: numpy>1.20.0 in /Users/danialzendehdel/anaconda3/lib/python3.11/site-packages (from torchmetrics) (1.24.3)\r\n",
      "Requirement already satisfied: packaging>17.1 in /Users/danialzendehdel/anaconda3/lib/python3.11/site-packages (from torchmetrics) (23.1)\r\n",
      "Requirement already satisfied: torch>=1.10.0 in /Users/danialzendehdel/anaconda3/lib/python3.11/site-packages (from torchmetrics) (2.2.1)\r\n",
      "Requirement already satisfied: lightning-utilities>=0.8.0 in /Users/danialzendehdel/anaconda3/lib/python3.11/site-packages (from torchmetrics) (0.11.2)\r\n",
      "Requirement already satisfied: pretty-errors==1.2.25 in /Users/danialzendehdel/anaconda3/lib/python3.11/site-packages (from torchmetrics) (1.2.25)\r\n",
      "Requirement already satisfied: colorama in /Users/danialzendehdel/anaconda3/lib/python3.11/site-packages (from pretty-errors==1.2.25->torchmetrics) (0.4.6)\r\n",
      "Requirement already satisfied: setuptools in /Users/danialzendehdel/anaconda3/lib/python3.11/site-packages (from lightning-utilities>=0.8.0->torchmetrics) (68.0.0)\r\n",
      "Requirement already satisfied: typing-extensions in /Users/danialzendehdel/anaconda3/lib/python3.11/site-packages (from lightning-utilities>=0.8.0->torchmetrics) (4.10.0)\r\n",
      "Requirement already satisfied: filelock in /Users/danialzendehdel/anaconda3/lib/python3.11/site-packages (from torch>=1.10.0->torchmetrics) (3.9.0)\r\n",
      "Requirement already satisfied: sympy in /Users/danialzendehdel/anaconda3/lib/python3.11/site-packages (from torch>=1.10.0->torchmetrics) (1.11.1)\r\n",
      "Requirement already satisfied: networkx in /Users/danialzendehdel/anaconda3/lib/python3.11/site-packages (from torch>=1.10.0->torchmetrics) (3.1)\r\n",
      "Requirement already satisfied: jinja2 in /Users/danialzendehdel/anaconda3/lib/python3.11/site-packages (from torch>=1.10.0->torchmetrics) (3.1.2)\r\n",
      "Requirement already satisfied: fsspec in /Users/danialzendehdel/anaconda3/lib/python3.11/site-packages (from torch>=1.10.0->torchmetrics) (2023.4.0)\r\n",
      "Requirement already satisfied: MarkupSafe>=2.0 in /Users/danialzendehdel/anaconda3/lib/python3.11/site-packages (from jinja2->torch>=1.10.0->torchmetrics) (2.1.1)\r\n",
      "Requirement already satisfied: mpmath>=0.19 in /Users/danialzendehdel/anaconda3/lib/python3.11/site-packages (from sympy->torch>=1.10.0->torchmetrics) (1.3.0)\r\n"
     ]
    }
   ],
   "source": [
    "!pip install bhv\n",
    "!pip install torch_geometric\n",
    "!pip install torchmetrics"
   ],
   "metadata": {
    "collapsed": false,
    "ExecuteTime": {
     "end_time": "2024-05-07T23:02:33.477966Z",
     "start_time": "2024-05-07T23:02:12.814772Z"
    }
   },
   "id": "6c220a4d887f0005",
   "execution_count": 65
  },
  {
   "cell_type": "code",
   "outputs": [
    {
     "name": "stdout",
     "output_type": "stream",
     "text": [
      "DEPRECATION: Loading egg at /Users/danialzendehdel/anaconda3/lib/python3.11/site-packages/sniffio-1.3.1-py3.11.egg is deprecated. pip 23.3 will enforce this behaviour change. A possible replacement is to use pip for package installation..\r\n",
      "DEPRECATION: Loading egg at /Users/danialzendehdel/anaconda3/lib/python3.11/site-packages/attrs-23.2.0-py3.11.egg is deprecated. pip 23.3 will enforce this behaviour change. A possible replacement is to use pip for package installation..\r\n",
      "DEPRECATION: Loading egg at /Users/danialzendehdel/anaconda3/lib/python3.11/site-packages/trio-0.25.0-py3.11.egg is deprecated. pip 23.3 will enforce this behaviour change. A possible replacement is to use pip for package installation..\r\n",
      "DEPRECATION: Loading egg at /Users/danialzendehdel/anaconda3/lib/python3.11/site-packages/bs4-0.0.2-py3.11.egg is deprecated. pip 23.3 will enforce this behaviour change. A possible replacement is to use pip for package installation..\r\n",
      "DEPRECATION: Loading egg at /Users/danialzendehdel/anaconda3/lib/python3.11/site-packages/outcome-1.3.0.post0-py3.11.egg is deprecated. pip 23.3 will enforce this behaviour change. A possible replacement is to use pip for package installation..\r\n",
      "DEPRECATION: Loading egg at /Users/danialzendehdel/anaconda3/lib/python3.11/site-packages/rfc3986-1.5.0-py3.11.egg is deprecated. pip 23.3 will enforce this behaviour change. A possible replacement is to use pip for package installation..\r\n",
      "DEPRECATION: Loading egg at /Users/danialzendehdel/anaconda3/lib/python3.11/site-packages/h11-0.12.0-py3.11.egg is deprecated. pip 23.3 will enforce this behaviour change. A possible replacement is to use pip for package installation..\r\n",
      "DEPRECATION: Loading egg at /Users/danialzendehdel/anaconda3/lib/python3.11/site-packages/httpx-1.0.0b0-py3.11.egg is deprecated. pip 23.3 will enforce this behaviour change. A possible replacement is to use pip for package installation..\r\n",
      "DEPRECATION: Loading egg at /Users/danialzendehdel/anaconda3/lib/python3.11/site-packages/httpcore-0.13.7-py3.11.egg is deprecated. pip 23.3 will enforce this behaviour change. A possible replacement is to use pip for package installation..\r\n",
      "Collecting torch-hd\r\n",
      "  Obtaining dependency information for torch-hd from https://files.pythonhosted.org/packages/c9/90/76a387ce648ef5421dd77d093dbe8035f22640070a59ea2c010d7b1c98bb/torch_hd-5.5.0-py3-none-any.whl.metadata\r\n",
      "  Using cached torch_hd-5.5.0-py3-none-any.whl.metadata (10 kB)\r\n",
      "Requirement already satisfied: torch>=1.9.0 in /Users/danialzendehdel/anaconda3/lib/python3.11/site-packages (from torch-hd) (2.2.1)\r\n",
      "Requirement already satisfied: scipy in /Users/danialzendehdel/anaconda3/lib/python3.11/site-packages (from torch-hd) (1.11.1)\r\n",
      "Requirement already satisfied: pandas in /Users/danialzendehdel/anaconda3/lib/python3.11/site-packages (from torch-hd) (2.0.3)\r\n",
      "Requirement already satisfied: numpy in /Users/danialzendehdel/anaconda3/lib/python3.11/site-packages (from torch-hd) (1.24.3)\r\n",
      "Requirement already satisfied: requests in /Users/danialzendehdel/anaconda3/lib/python3.11/site-packages (from torch-hd) (2.31.0)\r\n",
      "Requirement already satisfied: tqdm in /Users/danialzendehdel/anaconda3/lib/python3.11/site-packages (from torch-hd) (4.65.0)\r\n",
      "Requirement already satisfied: openpyxl in /Users/danialzendehdel/anaconda3/lib/python3.11/site-packages (from torch-hd) (3.0.10)\r\n",
      "Requirement already satisfied: filelock in /Users/danialzendehdel/anaconda3/lib/python3.11/site-packages (from torch>=1.9.0->torch-hd) (3.9.0)\r\n",
      "Requirement already satisfied: typing-extensions>=4.8.0 in /Users/danialzendehdel/anaconda3/lib/python3.11/site-packages (from torch>=1.9.0->torch-hd) (4.10.0)\r\n",
      "Requirement already satisfied: sympy in /Users/danialzendehdel/anaconda3/lib/python3.11/site-packages (from torch>=1.9.0->torch-hd) (1.11.1)\r\n",
      "Requirement already satisfied: networkx in /Users/danialzendehdel/anaconda3/lib/python3.11/site-packages (from torch>=1.9.0->torch-hd) (3.1)\r\n",
      "Requirement already satisfied: jinja2 in /Users/danialzendehdel/anaconda3/lib/python3.11/site-packages (from torch>=1.9.0->torch-hd) (3.1.2)\r\n",
      "Requirement already satisfied: fsspec in /Users/danialzendehdel/anaconda3/lib/python3.11/site-packages (from torch>=1.9.0->torch-hd) (2023.4.0)\r\n",
      "Requirement already satisfied: et_xmlfile in /Users/danialzendehdel/anaconda3/lib/python3.11/site-packages (from openpyxl->torch-hd) (1.1.0)\r\n",
      "Requirement already satisfied: python-dateutil>=2.8.2 in /Users/danialzendehdel/anaconda3/lib/python3.11/site-packages (from pandas->torch-hd) (2.8.2)\r\n",
      "Requirement already satisfied: pytz>=2020.1 in /Users/danialzendehdel/anaconda3/lib/python3.11/site-packages (from pandas->torch-hd) (2023.3.post1)\r\n",
      "Requirement already satisfied: tzdata>=2022.1 in /Users/danialzendehdel/anaconda3/lib/python3.11/site-packages (from pandas->torch-hd) (2023.3)\r\n",
      "Requirement already satisfied: charset-normalizer<4,>=2 in /Users/danialzendehdel/anaconda3/lib/python3.11/site-packages (from requests->torch-hd) (2.0.4)\r\n",
      "Requirement already satisfied: idna<4,>=2.5 in /Users/danialzendehdel/anaconda3/lib/python3.11/site-packages (from requests->torch-hd) (3.4)\r\n",
      "Requirement already satisfied: urllib3<3,>=1.21.1 in /Users/danialzendehdel/anaconda3/lib/python3.11/site-packages (from requests->torch-hd) (1.26.16)\r\n",
      "Requirement already satisfied: certifi>=2017.4.17 in /Users/danialzendehdel/anaconda3/lib/python3.11/site-packages (from requests->torch-hd) (2023.7.22)\r\n",
      "Requirement already satisfied: six>=1.5 in /Users/danialzendehdel/anaconda3/lib/python3.11/site-packages (from python-dateutil>=2.8.2->pandas->torch-hd) (1.16.0)\r\n",
      "Requirement already satisfied: MarkupSafe>=2.0 in /Users/danialzendehdel/anaconda3/lib/python3.11/site-packages (from jinja2->torch>=1.9.0->torch-hd) (2.1.1)\r\n",
      "Requirement already satisfied: mpmath>=0.19 in /Users/danialzendehdel/anaconda3/lib/python3.11/site-packages (from sympy->torch>=1.9.0->torch-hd) (1.3.0)\r\n",
      "Using cached torch_hd-5.5.0-py3-none-any.whl (350 kB)\r\n",
      "Installing collected packages: torch-hd\r\n",
      "Successfully installed torch-hd-5.5.0\r\n"
     ]
    }
   ],
   "source": [
    "!pip install torch-hd"
   ],
   "metadata": {
    "collapsed": false,
    "ExecuteTime": {
     "end_time": "2024-05-06T20:16:19.149020Z",
     "start_time": "2024-05-06T20:16:08.929355Z"
    }
   },
   "id": "f3cf9276f42607d9",
   "execution_count": 25
  },
  {
   "cell_type": "markdown",
   "source": [
    "## GraphHD\n",
    "\n",
    "- Contrary to the usual ML problems in which data is captured in the Euclidean space such as vector of feature, images, time series data, etc., in real world scenarios `representation of relationships between entities` has the importance. These information about such entities and the relationships between them is non-euclidean and can be represented as a graph.\n",
    "- However, the graph data is not directly usable by the ML models. The graph data needs to be converted into a format that can be used by the ML models. This conversion is called `graph embedding` or `graph encoding`.\n",
    "- GraphHD is a graph encoding technique that uses Hypervector Distributed Computing (HDC) to encode the graph data into a format that can be used by the ML models.\n",
    "- HDC represents information in a high- dimensional space using hypervectors. Each hypervector stores data holographically, that is, each dimension contains the same amount of information. This allows HDC to store and process large amounts of data in a compact and efficient manner, as the information is not concentrated in a single dimension but is spread out across all dimensions."
   ],
   "metadata": {
    "collapsed": false
   },
   "id": "5674c359810556d8"
  },
  {
   "cell_type": "markdown",
   "source": [
    "### Hyperdimensional Computing\n",
    "\n",
    "- Hyperdimensional computing seeks to emulate brain circuits in a more robust and efficient way than neural networks by representing information as points in a high-dimensional space, called $\\textbf{hypervectors}$. Hypervectors are typically binary or bipolar vectors with ten thousand dimensions.\n",
    "\n",
    "\n",
    "#### HDC models\n",
    "- HDC models can often be separated into three stages: encoding, training, and inference. An overview of HDC classification is shown in Figure 1. The encoding stage is application specific and serves to transform the input data into hypervectors. During the training the hypervectors are aggregated to learn a model. Finally, inferences into the model can be made using the generated class representations.\n",
    "\n",
    "![Figure 1](images/fig1.png)\n"
   ],
   "metadata": {
    "collapsed": false
   },
   "id": "453af00c3f7927f1"
  },
  {
   "cell_type": "markdown",
   "source": [
    "### Process \n",
    "\n",
    "- Encoding \n",
    "    - The mapping of data to the high-dimensional space is the first step in HDC and this process corresponds to encoding.\n",
    "    $$Enc: \\mathbb{I} \\rightarrow \\mathbb{H}^d$$\n",
    "\n",
    "Encoding is the HDC counterpart to the feature extraction process in classical learning methods. Thus, the main intuitive principle that governs the encoding is that inputs that are similar in the original space should be mapped to similar hypervectors.\n",
    "The process starts by generating a set of basis hypervectors that represent units of information (e.g. feature values and positions). The basis hypervectors remain fixed throughout computation and each data sample is encoded by combining and manipulating them using the addition (bundling), multiplication (binding) and permutation operations.\n",
    "- Record based encoding\n",
    "The encoding generates the hypervector $\\textbf{H}$ from the randomly generated key hypervectors $\\textbf{K}$  which are bound to their value $\\textbf{V^\\bar_i}$ which is one of predifined value hypervectors in $\\textbf{V}$.\n",
    "\n",
    "$$ \\textbf{H} = [K_1 \\times \\textbf{V^\\bar_1} + K_2 \\times \\textbf{V^\\bar_2} + .... + k_N \\times \\textbf{V^\\bar_N}  ]$$\n",
    "        \n",
    "\n",
    "\n",
    "           "
   ],
   "metadata": {
    "collapsed": false
   },
   "id": "67b2d7e7cdac51b8"
  },
  {
   "cell_type": "markdown",
   "source": [
    "- Training \n",
    "A trained HDC model creates $\\textit{k}$ hypervector one for each class therefore  the model $$ M = \\{ C_1, C_2, ..., C_k\\}$$ where $C_i$ is the hypervector for class $i$ and contains all the information used to identify the i-th class.\n",
    "- Each $C_i$ is calculated as the vector with the smallest average distance to the the hypervectors obtained by encoding the training samples of class i:\n",
    "$$ C_i = \\sum_{j:\\l(x_j)=i} Enc(x_j)$$\n",
    "\n",
    "In which $\\l(x_j)$ is the label of the j-th training sample and $Enc(x_j)$ is the hypervector obtained by encoding the j-th training sample and the sum  is bundling. "
   ],
   "metadata": {
    "collapsed": false
   },
   "id": "d10167ec29cfeb57"
  },
  {
   "cell_type": "markdown",
   "source": [
    "### GraphHD Encoding\n",
    "$$Enc_{v} : V(G) \\rightarrow \\mathbb{R}^{d}$$\n",
    "\n",
    "By $\\textit{encoding}$  a random hypervector would be assigned to each vertice of the graph $G$ denoted by $V(G)$. For example, one for each letter to encode text.\n",
    "\n",
    "\n",
    "$\\textit{How to encode a graph?} \\\\$ \n",
    "\n",
    "In other structures like text, there is a correspondence between the letters of different texts. For example, the letter 'a' in the word 'apple' is the same as the letter 'a' in the word 'banana' which makes it reasonable to encode the letter 'a' with the same hypervector in both words. Because of structure of a graph, there is no correspondence between vertices of different graphs. \n",
    "- Vertex Identity Is Contextual: In graphs, vertices do not have a universal \"meaning\" or identity outside their specific graph context. The identity of a vertex is often defined by its position and its relationships within a graph, not by any inherent, standalone attribute.\n",
    "- Lack of Universal Features: Unlike text where 'A' always carries the same semantic meaning, a vertex in one graph does not inherently carry over the same attributes or relationships as a similarly positioned vertex in another graph. For instance, a vertex representing a city in one graph might be central, while in another graph, a similarly positioned vertex could represent a minor town.\n",
    "\n",
    "\n",
    "$\\textit{Extracting an identifier for the vertices based only on the topology of the graph}$    \\\n",
    "$\\textbf{PageRank}$\n",
    "\n",
    "PageRank centerality metric receives a graph as input and returns, for each vertex $v_i \\in V$ a value $c(v_i) \\in [0, 1]$  that measures its “importance” in the graph.\n",
    "\n",
    "From this ranking induced by the PageRank centrality of the vertices, it is possible to establish a meaningful connection between vertices in different graphs. Therefore, GraphHD uses the centrality rank of the vertex as its identifier (or symbol). Accordingly, vertices of different graphs, but with the same centrality rank, are encoded to the same random hypervector from the basis set.\n",
    "\n",
    "\n",
    "After creating the hypervectors for each vertex, GraphHD makes use of these representations to also encode each edge $(v_i, v_j) \\in E(G)$, The edge encoding function $Enc_e$ is defined as follows:\n",
    "\n",
    "$Enc_e((v_j, v_j)) = Enc_v(v_i) \\times Enc_v(v_j)$\n",
    "\n",
    "\n",
    "\n",
    "The $\\times$ symbol represents the binding operation in HDC, which is the standard operation to represent an association between a pair of hypervectors, similar to the role of an edge in a graph. The result of the binding operation is a third vector, statistically quasi-orthogonal to the operand vectors, which we name edge-hypervectors."
   ],
   "metadata": {
    "collapsed": false
   },
   "id": "cf09be1722f29b26"
  },
  {
   "cell_type": "code",
   "outputs": [
    {
     "name": "stdout",
     "output_type": "stream",
     "text": [
      "5.5.0\n"
     ]
    }
   ],
   "source": [
    "import networkx as nx\n",
    "import matplotlib.pyplot as plt\n",
    "import pandas as pd\n",
    "from statistics import fmean, stdev\n",
    "import torch\n",
    "import torch.nn as nn\n",
    "import torch.nn.functional as F\n",
    "from functools import reduce\n",
    "from operator import add\n",
    "from tqdm import tqdm\n",
    "\n",
    "from torch_geometric.datasets import TUDataset\n",
    "import torchmetrics\n",
    "import torchhd\n",
    "print(torchhd.__version__)"
   ],
   "metadata": {
    "collapsed": false,
    "ExecuteTime": {
     "end_time": "2024-05-08T19:56:23.223034Z",
     "start_time": "2024-05-08T19:56:13.760612Z"
    }
   },
   "id": "6506525c1d79bc70",
   "execution_count": 1
  },
  {
   "cell_type": "markdown",
   "source": [
    "#### TUDataset\n",
    "\n",
    "Link to [TUDataset](https://chrsmrrs.github.io/datasets/docs/home/). \n",
    "Total number of graphs in `MUTAG` is 188. "
   ],
   "metadata": {
    "collapsed": false
   },
   "id": "631aff78324a8975"
  },
  {
   "cell_type": "code",
   "outputs": [
    {
     "name": "stdout",
     "output_type": "stream",
     "text": [
      "Total number of graphs: 188\n"
     ]
    }
   ],
   "source": [
    "# for other available datasets see: https://pytorch-geometric.readthedocs.io/en/latest/notes/data_cheatsheet.html?highlight=tudatasets\n",
    "dataset = \"MUTAG\"\n",
    "\n",
    "graphs = TUDataset(\"../data\", dataset)\n",
    "print(f\"Total number of graphs: {len(graphs)}\")"
   ],
   "metadata": {
    "collapsed": false,
    "ExecuteTime": {
     "end_time": "2024-05-08T19:56:23.240642Z",
     "start_time": "2024-05-08T19:56:23.225767Z"
    }
   },
   "id": "598d04a2a78a537c",
   "execution_count": 2
  },
  {
   "cell_type": "code",
   "outputs": [
    {
     "data": {
      "text/plain": "Data(edge_index=[2, 28], x=[13, 7], edge_attr=[28, 4], y=[1])"
     },
     "execution_count": 3,
     "metadata": {},
     "output_type": "execute_result"
    }
   ],
   "source": [
    "graphs[2]"
   ],
   "metadata": {
    "collapsed": false,
    "ExecuteTime": {
     "end_time": "2024-05-08T19:56:23.248991Z",
     "start_time": "2024-05-08T19:56:23.241930Z"
    }
   },
   "id": "c5ccc1708ee3d735",
   "execution_count": 3
  },
  {
   "cell_type": "code",
   "outputs": [
    {
     "data": {
      "text/plain": "<Figure size 640x480 with 1 Axes>",
      "image/png": "[encoded data removed]"
     },
     "metadata": {},
     "output_type": "display_data"
    },
    {
     "name": "stdout",
     "output_type": "stream",
     "text": [
      "Number of nodes: 13\n",
      "Number of edges: 28\n",
      "Number of node features: 7\n",
      "Number of graph features: 7\n",
      "Is the graph directed: False\n",
      "Graph label (class): tensor([0])\n",
      "Edge index shape: \n"
     ]
    },
    {
     "data": {
      "text/plain": "   0   1   2   3   4   5   6   7   8   9   ...  18  19  20  21  22  23  24  \\\n0   0   0   1   1   2   2   2   3   3   3  ...   8   8   8   9   9  10  10   \n1   1   9   0   2   1   3   7   2   4   8  ...   3   9  10   0   8   8  11   \n\n   25  26  27  \n0  10  11  12  \n1  12  10  10  \n\n[2 rows x 28 columns]",
      "text/html": "<div>\n<style scoped>\n    .dataframe tbody tr th:only-of-type {\n        vertical-align: middle;\n    }\n\n    .dataframe tbody tr th {\n        vertical-align: top;\n    }\n\n    .dataframe thead th {\n        text-align: right;\n    }\n</style>\n<table border=\"1\" class=\"dataframe\">\n  <thead>\n    <tr style=\"text-align: right;\">\n      <th></th>\n      <th>0</th>\n      <th>1</th>\n      <th>2</th>\n      <th>3</th>\n      <th>4</th>\n      <th>5</th>\n      <th>6</th>\n      <th>7</th>\n      <th>8</th>\n      <th>9</th>\n      <th>...</th>\n      <th>18</th>\n      <th>19</th>\n      <th>20</th>\n      <th>21</th>\n      <th>22</th>\n      <th>23</th>\n      <th>24</th>\n      <th>25</th>\n      <th>26</th>\n      <th>27</th>\n    </tr>\n  </thead>\n  <tbody>\n    <tr>\n      <th>0</th>\n      <td>0</td>\n      <td>0</td>\n      <td>1</td>\n      <td>1</td>\n      <td>2</td>\n      <td>2</td>\n      <td>2</td>\n      <td>3</td>\n      <td>3</td>\n      <td>3</td>\n      <td>...</td>\n      <td>8</td>\n      <td>8</td>\n      <td>8</td>\n      <td>9</td>\n      <td>9</td>\n      <td>10</td>\n      <td>10</td>\n      <td>10</td>\n      <td>11</td>\n      <td>12</td>\n    </tr>\n    <tr>\n      <th>1</th>\n      <td>1</td>\n      <td>9</td>\n      <td>0</td>\n      <td>2</td>\n      <td>1</td>\n      <td>3</td>\n      <td>7</td>\n      <td>2</td>\n      <td>4</td>\n      <td>8</td>\n      <td>...</td>\n      <td>3</td>\n      <td>9</td>\n      <td>10</td>\n      <td>0</td>\n      <td>8</td>\n      <td>8</td>\n      <td>11</td>\n      <td>12</td>\n      <td>10</td>\n      <td>10</td>\n    </tr>\n  </tbody>\n</table>\n<p>2 rows × 28 columns</p>\n</div>"
     },
     "execution_count": 4,
     "metadata": {},
     "output_type": "execute_result"
    }
   ],
   "source": [
    "def plot_graph(graph):\n",
    "    # Convert to networkx graph\n",
    "    G = nx.Graph()\n",
    "    edge_index = graph.edge_index.numpy()\n",
    "    # Add edges and nodes to the graph\n",
    "    G.add_edges_from(edge_index.T)\n",
    "    # Draw the graph\n",
    "    nx.draw(G, with_labels=True, node_color='lightblue')\n",
    "    plt.show()\n",
    "\n",
    "# Visualize the first graph\n",
    "plot_graph(graphs[2])\n",
    "\n",
    "data = graphs[2]\n",
    "print(f\"Number of nodes: {data.num_nodes}\")\n",
    "print(f\"Number of edges: {data.num_edges}\")\n",
    "print(f\"Number of node features: {data.num_node_features}\")\n",
    "# ===========================================================\n",
    "# Each node has 7 features. These features typically represent properties or characteristics of the nodes which can be used for graph neural network tasks. For instance, in a chemical graph like MUTAG, these could include properties like atom type, charge, etc.\n",
    "# ===========================================================\n",
    "print(f\"Number of graph features: {data.num_features}\")\n",
    "print(f\"Is the graph directed: {data.is_directed()}\")\n",
    "print(f\"Graph label (class): {data.y}\")\n",
    "# ===========================================================\n",
    "# In classification tasks, each graph is assigned a label, which in the case of MUTAG could indicate the presence or absence of mutagenic effect.\n",
    "# ===========================================================\n",
    "\n",
    "# print(f\"Edge index (connectivity): \\n{data.edge_index}\")\n",
    "print(f\"Edge index shape: \")\n",
    "df = pd.DataFrame(data.edge_index)\n",
    "df"
   ],
   "metadata": {
    "collapsed": false,
    "ExecuteTime": {
     "end_time": "2024-05-08T19:56:23.466045Z",
     "start_time": "2024-05-08T19:56:23.250103Z"
    }
   },
   "id": "30ef9b785afe4c51",
   "execution_count": 4
  },
  {
   "cell_type": "code",
   "outputs": [],
   "source": [
    "def sparse_stochastic_graph(G):\n",
    "    \"\"\"\n",
    "    Returns a sparse adjacency matrix of the graph G.\n",
    "    The values indicate the probability of leaving a vertex.\n",
    "    This means that each column sums up to one.\n",
    "    \"\"\"\n",
    "    rows, columns = G.edge_index # rows containing source nodes, and columns containing destination nodes of each edge.\n",
    "    # Calculate the probability for each column\n",
    "    values_per_column = 1.0 / torch.bincount(columns, minlength=G.num_nodes) # probability of leaving a vertex\n",
    "    values_per_edge = values_per_column[columns]\n",
    "    size = (G.num_nodes, G.num_nodes)\n",
    "    return torch.sparse_coo_tensor(G.edge_index, values_per_edge, size) # The sparse stochastic adjacency matrix is a representation of the graph where each                                                                        entry M[i][j] represents the probability of transitioning from node i to node j.\n",
    "\n",
    "\n",
    "def inverse_permutation(perm):\n",
    "    inv = torch.empty_like(perm)\n",
    "    inv[perm] = torch.arange(perm.size(0), device=perm.device)\n",
    "    return inv\n",
    "\n",
    "\n",
    "def to_undirected(edge_index):\n",
    "    \"\"\"\n",
    "    Returns the undirected edge_index\n",
    "    [[0, 1], [1, 0]] will result in [[0], [1]]\n",
    "    \"\"\"\n",
    "    edge_index = edge_index.sort(dim=0)[0]\n",
    "    edge_index = torch.unique(edge_index, dim=1)\n",
    "    return edge_index"
   ],
   "metadata": {
    "collapsed": false,
    "ExecuteTime": {
     "end_time": "2024-05-08T19:56:23.477267Z",
     "start_time": "2024-05-08T19:56:23.470184Z"
    }
   },
   "id": "d876f4d9086b87e2",
   "execution_count": 5
  },
  {
   "cell_type": "code",
   "outputs": [
    {
     "name": "stdout",
     "output_type": "stream",
     "text": [
      "Column sums: tensor([1., 1., 1., 1., 1., 1., 1., 1., 1., 1., 1., 1., 1.])\n"
     ]
    },
    {
     "data": {
      "text/plain": "tensor([1., 1., 1., 1., 1., 1., 1., 1., 1., 1., 1., 1., 1.])"
     },
     "execution_count": 6,
     "metadata": {},
     "output_type": "execute_result"
    }
   ],
   "source": [
    "def validate_stochastic_matrix(G):\n",
    "    sparse_matrix = sparse_stochastic_graph(G)\n",
    "    dense_matrix = sparse_matrix.to_dense()\n",
    "    # print(dense_matrix)\n",
    "    column_sums = dense_matrix.sum(dim=0)\n",
    "    print(\"Column sums:\", column_sums)  # Each element should be very close to 1\n",
    "    return column_sums\n",
    "\n",
    "validate_stochastic_matrix(graphs[2])"
   ],
   "metadata": {
    "collapsed": false,
    "ExecuteTime": {
     "end_time": "2024-05-08T19:56:23.492611Z",
     "start_time": "2024-05-08T19:56:23.479147Z"
    }
   },
   "id": "3f6ba5cf014081ec",
   "execution_count": 6
  },
  {
   "cell_type": "code",
   "outputs": [
    {
     "data": {
      "text/plain": "tensor([0.0714, 0.0699, 0.0988, 0.0982, 0.0699, 0.0718, 0.0718, 0.0701, 0.1024,\n        0.0709, 0.1161, 0.0444, 0.0444])"
     },
     "execution_count": 7,
     "metadata": {},
     "output_type": "execute_result"
    }
   ],
   "source": [
    "def pagerank(G, alpha=0.85, max_iter=100):\n",
    "    \"\"\"\n",
    "    Calculate PageRank based on the sparse stochastic graph representation.\n",
    "    \"\"\"\n",
    "    N = G.num_nodes\n",
    "    M = sparse_stochastic_graph(G) * alpha\n",
    "    v = torch.full((N,), 1 / N)\n",
    "    p = torch.full((N,), (1 - alpha) / N)\n",
    "    for _ in range(max_iter):\n",
    "        v = M @ v + p\n",
    "    return v\n",
    "pagerank(graphs[2])"
   ],
   "metadata": {
    "collapsed": false,
    "ExecuteTime": {
     "end_time": "2024-05-08T19:56:23.505453Z",
     "start_time": "2024-05-08T19:56:23.494509Z"
    }
   },
   "id": "5ff558946fe048d3",
   "execution_count": 7
  },
  {
   "cell_type": "code",
   "outputs": [],
   "source": [
    "class Encoder(nn.Module):\n",
    "    def __init__(self, num_vectors, vector_size=47):\n",
    "        super(Encoder, self).__init__()\n",
    "        # Generate random binary hypervectors\n",
    "        self.node_ids = nn.Parameter(self.generate_random_hypervectors(num_vectors, vector_size), requires_grad=False)\n",
    "\n",
    "    @staticmethod\n",
    "    def generate_random_hypervectors(num_vectors, vector_size):\n",
    "        # Generate random 0s and 1s\n",
    "        return torch.randint(0, 2, (num_vectors, vector_size), dtype=torch.int32)\n",
    "\n",
    "    def forward(self, x):\n",
    "        # Assuming 'pagerank' and 'inverse_permutation' functions are defined elsewhere\n",
    "        pr = pagerank(x)\n",
    "        pr_argsort = inverse_permutation(torch.argsort(pr))\n",
    "\n",
    "        node_id_hvs = self.node_ids[pr_argsort]\n",
    "\n",
    "        # Assuming 'to_undirected' function is defined elsewhere\n",
    "        row, col = to_undirected(x.edge_index)\n",
    "\n",
    "        # Perform XOR binding for each edge\n",
    "        hvs = [node_id_hvs[s] ^ node_id_hvs[t] for s, t in zip(row, col)]\n",
    "\n",
    "        # Bundle hypervectors using majority rule (here simplified to mean)\n",
    "        if len(hvs) > 0:\n",
    "            graph_hv = hvs[0]\n",
    "            for hv in hvs[1:]:\n",
    "                graph_hv = torchhd.bundle(graph_hv, hv)\n",
    "        else:\n",
    "            # Handle case where there are no edges\n",
    "            graph_hv = torch.zeros(self.vector_size, dtype=torch.float32)\n",
    "        return graph_hv.type(torch.float32)"
   ],
   "metadata": {
    "collapsed": false,
    "ExecuteTime": {
     "end_time": "2024-05-08T19:56:27.021903Z",
     "start_time": "2024-05-08T19:56:27.015231Z"
    }
   },
   "id": "382ff9bdde112aae",
   "execution_count": 8
  },
  {
   "cell_type": "code",
   "outputs": [],
   "source": [
    "class MajorityClassification(nn.Module):\n",
    "    def __init__(self):\n",
    "        super(MajorityClassification, self).__init__()\n",
    "        self.class_vectors = {}\n",
    "        self.classes = []  # To maintain the order of classes\n",
    "\n",
    "    def add(self, x, c):\n",
    "        \"\"\"Adds or updates the class vector for class c with a new training hypervector x.\"\"\"\n",
    "        if c not in self.class_vectors:\n",
    "            self.class_vectors[c] = x\n",
    "            self.classes.append(c)\n",
    "        else:\n",
    "            # Bundle the new hypervector with the existing class vector\n",
    "            self.class_vectors[c] = torchhd.bundle(self.class_vectors[c], x)\n",
    "    def num_classes(self):\n",
    "        return len(self.classes)\n",
    "    \n",
    "    def get_class_info(self):\n",
    "        return {c: self.class_vectors[c].detach().clone() for c in self.classes}  # Using detach().clone() to safely export tensors without affecting computation graph\n",
    "\n",
    "            \n",
    "\n",
    "    def forward(self, x):\n",
    "        \"\"\"Classifies an input hypervector x by finding the class with the highest similarity class vector.\"\"\"\n",
    "        # Gather all class vectors into a single tensor for batch processing\n",
    "        class_vectors = torch.stack([self.class_vectors[c] for c in self.classes])\n",
    "        # Calculate Hamming similarities between the input vector and all class vectors\n",
    "        similarities = torchhd.hamming_similarity(x, class_vectors)\n",
    "        # Find the index of the class vector with the highest similarity\n",
    "        max_index = torch.argmax(similarities)\n",
    "        # Return the class corresponding to the highest similarity\n",
    "        return self.classes[max_index]"
   ],
   "metadata": {
    "collapsed": false,
    "ExecuteTime": {
     "end_time": "2024-05-08T19:56:51.438258Z",
     "start_time": "2024-05-08T19:56:51.432137Z"
    }
   },
   "id": "6932f6b12ae0e521",
   "execution_count": 10
  },
  {
   "cell_type": "code",
   "outputs": [
    {
     "name": "stdout",
     "output_type": "stream",
     "text": [
      "The predicted class for the new hypervector is: class3\n"
     ]
    }
   ],
   "source": [
    "classifier = MajorityClassification()\n",
    "# Simulate adding training data\n",
    "classifier.add(torchhd.random(1, 10), 'class1')\n",
    "classifier.add(torchhd.random(1, 10), 'class2')\n",
    "classifier.add(torchhd.random(1, 10), 'class3')\n",
    "\n",
    "# Classify a new hypervector\n",
    "new_hv = torchhd.random(1, 10)\n",
    "predicted_class = classifier(new_hv)\n",
    "print(f\"The predicted class for the new hypervector is: {predicted_class}\")"
   ],
   "metadata": {
    "collapsed": false,
    "ExecuteTime": {
     "end_time": "2024-05-08T19:56:52.636315Z",
     "start_time": "2024-05-08T19:56:52.628602Z"
    }
   },
   "id": "c13bbea38d8efdf",
   "execution_count": 11
  },
  {
   "cell_type": "code",
   "outputs": [],
   "source": [],
   "metadata": {
    "collapsed": false,
    "ExecuteTime": {
     "end_time": "2024-05-08T19:56:54.306571Z",
     "start_time": "2024-05-08T19:56:54.304142Z"
    }
   },
   "id": "e0af7d0778fa5a1a",
   "execution_count": 11
  },
  {
   "cell_type": "code",
   "outputs": [
    {
     "name": "stderr",
     "output_type": "stream",
     "text": [
      "Training fold 1: 100%|██████████| 169/169 [00:00<00:00, 406.72it/s]\n",
      "Testing fold 1: 100%|██████████| 19/19 [00:00<00:00, 324.03it/s]\n"
     ]
    },
    {
     "name": "stdout",
     "output_type": "stream",
     "text": [
      "Testing accuracy of 26.316% for fold 1\n"
     ]
    },
    {
     "name": "stderr",
     "output_type": "stream",
     "text": [
      "Training fold 2: 100%|██████████| 169/169 [00:00<00:00, 434.26it/s]\n",
      "Testing fold 2: 100%|██████████| 19/19 [00:00<00:00, 319.71it/s]\n"
     ]
    },
    {
     "name": "stdout",
     "output_type": "stream",
     "text": [
      "Testing accuracy of 57.895% for fold 2\n"
     ]
    },
    {
     "name": "stderr",
     "output_type": "stream",
     "text": [
      "Training fold 3: 100%|██████████| 169/169 [00:00<00:00, 442.89it/s]\n",
      "Testing fold 3: 100%|██████████| 19/19 [00:00<00:00, 373.20it/s]\n"
     ]
    },
    {
     "name": "stdout",
     "output_type": "stream",
     "text": [
      "Testing accuracy of 68.421% for fold 3\n"
     ]
    },
    {
     "name": "stderr",
     "output_type": "stream",
     "text": [
      "Training fold 4: 100%|██████████| 169/169 [00:00<00:00, 448.40it/s]\n",
      "Testing fold 4: 100%|██████████| 19/19 [00:00<00:00, 382.82it/s]\n"
     ]
    },
    {
     "name": "stdout",
     "output_type": "stream",
     "text": [
      "Testing accuracy of 42.105% for fold 4\n"
     ]
    },
    {
     "name": "stderr",
     "output_type": "stream",
     "text": [
      "Training fold 5: 100%|██████████| 169/169 [00:00<00:00, 432.84it/s]\n",
      "Testing fold 5: 100%|██████████| 19/19 [00:00<00:00, 326.86it/s]\n"
     ]
    },
    {
     "name": "stdout",
     "output_type": "stream",
     "text": [
      "Testing accuracy of 78.947% for fold 5\n"
     ]
    },
    {
     "name": "stderr",
     "output_type": "stream",
     "text": [
      "Training fold 6: 100%|██████████| 169/169 [00:00<00:00, 383.64it/s]\n",
      "Testing fold 6: 100%|██████████| 19/19 [00:00<00:00, 350.01it/s]\n"
     ]
    },
    {
     "name": "stdout",
     "output_type": "stream",
     "text": [
      "Testing accuracy of 73.684% for fold 6\n"
     ]
    },
    {
     "name": "stderr",
     "output_type": "stream",
     "text": [
      "Training fold 7: 100%|██████████| 169/169 [00:00<00:00, 358.11it/s]\n",
      "Testing fold 7: 100%|██████████| 19/19 [00:00<00:00, 324.45it/s]\n"
     ]
    },
    {
     "name": "stdout",
     "output_type": "stream",
     "text": [
      "Testing accuracy of 63.158% for fold 7\n"
     ]
    },
    {
     "name": "stderr",
     "output_type": "stream",
     "text": [
      "Training fold 8: 100%|██████████| 169/169 [00:00<00:00, 419.27it/s]\n",
      "Testing fold 8: 100%|██████████| 19/19 [00:00<00:00, 420.15it/s]\n"
     ]
    },
    {
     "name": "stdout",
     "output_type": "stream",
     "text": [
      "Testing accuracy of 73.684% for fold 8\n"
     ]
    },
    {
     "name": "stderr",
     "output_type": "stream",
     "text": [
      "Training fold 9: 100%|██████████| 170/170 [00:00<00:00, 455.11it/s]\n",
      "Testing fold 9: 100%|██████████| 18/18 [00:00<00:00, 403.26it/s]\n"
     ]
    },
    {
     "name": "stdout",
     "output_type": "stream",
     "text": [
      "Testing accuracy of 83.333% for fold 9\n"
     ]
    },
    {
     "name": "stderr",
     "output_type": "stream",
     "text": [
      "Training fold 10: 100%|██████████| 170/170 [00:00<00:00, 381.80it/s]\n",
      "Testing fold 10: 100%|██████████| 18/18 [00:00<00:00, 334.65it/s]\n"
     ]
    },
    {
     "name": "stdout",
     "output_type": "stream",
     "text": [
      "Testing accuracy of 50.000% for fold 10\n",
      "tenfold crossvalidation accuracy mean: 0.6175438582897186, stdev: 0.17911355347113453\n"
     ]
    }
   ],
   "source": [
    "max_graph_size = max(g.num_nodes for g in graphs)\n",
    "folds = torch.utils.data.random_split(graphs, [.1]*10)\n",
    "accuracies = []\n",
    "\n",
    "for i in range(10):\n",
    "    train_ld, test_ld = reduce(add, [folds[j] for j in range(10) if j != i]), folds[i]\n",
    "    \n",
    "    encode = Encoder(max_graph_size, vector_size=47)\n",
    "    \n",
    "    model = MajorityClassification()\n",
    "    \n",
    "    with torch.no_grad():\n",
    "        for samples in tqdm(train_ld, desc=f\"Training fold {i + 1}\"):\n",
    "            samples_hv = encode(samples)\n",
    "            model.add(samples_hv, samples.y.item())\n",
    "            \n",
    "        accuracy = torchmetrics.Accuracy(\"multiclass\", num_classes=graphs.num_classes)\n",
    "        \n",
    "        for samples in tqdm(test_ld, desc=f\"Testing fold {i + 1}\"):\n",
    "            samples_hv = encode(samples)\n",
    "            output = model(samples_hv)\n",
    "            accuracy.update(torch.IntTensor([output]), samples.y)\n",
    "            \n",
    "    acc = accuracy.compute().item()\n",
    "    accuracies.append(acc)\n",
    "    print(f\"Testing accuracy of {acc*100:.3f}% for fold {i + 1}\")\n",
    "    \n",
    "print(f\"tenfold crossvalidation accuracy mean: {fmean(accuracies)}, stdev: {stdev(accuracies)}\")\n",
    "\n"
   ],
   "metadata": {
    "collapsed": false,
    "ExecuteTime": {
     "end_time": "2024-05-08T19:56:59.620253Z",
     "start_time": "2024-05-08T19:56:54.832570Z"
    }
   },
   "id": "8759d9e84757ee1a",
   "execution_count": 12
  },
  {
   "cell_type": "code",
   "outputs": [
    {
     "name": "stdout",
     "output_type": "stream",
     "text": [
      "MAPTensor([[-1., -1., -1., -1., -1.,  1.,  1.,  1.,  1., -1., -1.,  1.,  1.,\n",
      "             1.,  1.,  1.,  1., -1., -1.,  1., -1., -1., -1.,  1., -1.,  1.,\n",
      "            -1.,  1., -1.,  1., -1.,  1., -1.,  1., -1.,  1., -1.,  1., -1.,\n",
      "             1.,  1., -1., -1., -1., -1.,  1., -1.]])\n",
      "The predicted class for the new hypervector is: 1\n"
     ]
    }
   ],
   "source": [
    "new_hv = torchhd.random(1, 47)  # Example new sample\n",
    "print(new_hv)\n",
    "predicted_class = model(new_hv)\n",
    "\n",
    "print(f\"The predicted class for the new hypervector is: {predicted_class}\")"
   ],
   "metadata": {
    "collapsed": false,
    "ExecuteTime": {
     "end_time": "2024-05-08T19:57:01.534895Z",
     "start_time": "2024-05-08T19:57:01.524493Z"
    }
   },
   "id": "7b68db399f5f8d9e",
   "execution_count": 13
  },
  {
   "cell_type": "code",
   "outputs": [
    {
     "name": "stdout",
     "output_type": "stream",
     "text": [
      "Class 1: Hypervector - MAPTensor([1222., 1148., 1237., 1386., 1404., 1402., 1360., 1355., 1348., 1397.,\n",
      "           1239., 1378., 1273., 1286., 1403., 1417., 1449.,  937., 1291., 1444.,\n",
      "           1323., 1355., 1226., 1322., 1292., 1104., 1352., 1073., 1101., 1333.,\n",
      "           1369., 1276.,  867., 1267., 1315., 1213.,  964., 1393., 1292., 1319.,\n",
      "           1351., 1347., 1301., 1420., 1404., 1315., 1268.])\n",
      "Class 0: Hypervector - MAPTensor([311., 394., 428., 431., 407., 418., 425., 413., 361., 318., 434.,\n",
      "           413., 405., 352., 419., 416., 459., 257., 417., 456., 379., 408.,\n",
      "           338., 416., 374., 385., 385., 412., 383., 315., 446., 352., 300.,\n",
      "           385., 339., 388., 315., 415., 390., 400., 388., 410., 408., 414.,\n",
      "           426., 398., 329.])\n"
     ]
    }
   ],
   "source": [
    "for label, hypervector in model.get_class_info().items():\n",
    "    print(f\"Class {label}: Hypervector - {hypervector}\")"
   ],
   "metadata": {
    "collapsed": false,
    "ExecuteTime": {
     "end_time": "2024-05-08T19:57:01.896918Z",
     "start_time": "2024-05-08T19:57:01.886584Z"
    }
   },
   "id": "40db3cc212613ee9",
   "execution_count": 14
  },
  {
   "cell_type": "code",
   "outputs": [],
   "source": [
    " "
   ],
   "metadata": {
    "collapsed": false
   },
   "id": "88f14c0a09703d53"
  }
 ],
 "metadata": {
  "kernelspec": {
   "display_name": "Python 3",
   "language": "python",
   "name": "python3"
  },
  "language_info": {
   "codemirror_mode": {
    "name": "ipython",
    "version": 2
   },
   "file_extension": ".py",
   "mimetype": "text/x-python",
   "name": "python",
   "nbconvert_exporter": "python",
   "pygments_lexer": "ipython2",
   "version": "2.7.6"
  }
 },
 "nbformat": 4,
 "nbformat_minor": 5
}
